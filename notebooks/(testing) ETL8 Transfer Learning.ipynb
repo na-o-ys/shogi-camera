{
 "cells": [
  {
   "cell_type": "code",
   "execution_count": 43,
   "metadata": {
    "scrolled": true
   },
   "outputs": [
    {
     "name": "stdout",
     "output_type": "stream",
     "text": [
      "../data/koma/01.npz\n",
      "../data/koma/02.npz\n",
      "../data/koma/03.npz\n",
      "../data/koma/04.npz\n",
      "../data/koma/05.npz\n",
      "../data/koma/06.npz\n",
      "../data/koma/07.npz\n",
      "../data/koma/08.npz\n",
      "../data/koma/09.npz\n",
      "../data/koma/10.npz\n",
      "../data/koma/11.npz\n",
      "../data/koma/12.npz\n",
      "../data/koma/13.npz\n",
      "../data/koma/14.npz\n",
      "../data/koma/15.npz\n",
      "../data/koma/16.npz\n",
      "../data/koma/17.npz\n",
      "../data/koma/18.npz\n",
      "../data/koma/19.npz\n",
      "../data/koma/20.npz\n",
      "../data/koma/21.npz\n",
      "../data/koma/22.npz\n",
      "../data/koma/23.npz\n",
      "../data/koma/24.npz\n",
      "../data/koma/25.npz\n",
      "../data/koma/26.npz\n",
      "../data/koma/27.npz\n"
     ]
    }
   ],
   "source": [
    "import numpy as np\n",
    "import scipy.misc\n",
    "import glob\n",
    "import keras\n",
    "from keras import backend as K\n",
    "from keras.layers import Conv2D, MaxPooling2D, Input\n",
    "from keras.layers import Dense, Dropout, Flatten\n",
    "from keras.layers.merge import Concatenate\n",
    "from keras.models import Sequential, Model\n",
    "from keras.preprocessing.image import ImageDataGenerator\n",
    "from keras.layers.normalization import BatchNormalization\n",
    "from keras.layers.advanced_activations import PReLU\n",
    "from sklearn.model_selection import train_test_split\n",
    "from io import BytesIO\n",
    "from IPython import display\n",
    "from PIL import Image\n",
    "\n",
    "def display_image(arr):\n",
    "    b = BytesIO()\n",
    "    Image.fromarray(np.uint8(arr)).save(b, format='png')\n",
    "    data = b.getvalue()\n",
    "    display.display(display.Image(data=data, format='png', embed=True))\n",
    "\n",
    "labels = ['gyoku', 'ou', 'kin', 'gin', 'kei', 'kyo', 'kaku', 'hi', 'fu', 'narigin', 'narikei', 'narikyo', 'uma', 'ryu', 'to']\n",
    "\n",
    "# input image dimensions\n",
    "img_rows, img_cols = 64, 64\n",
    "IMG_ROWS, IMG_COLS = 64, 64\n",
    "input_shape = (img_rows, img_cols, 1)\n",
    "\n",
    "series_imgs = []\n",
    "series_labels = []\n",
    "for i, series in enumerate(sorted(glob.glob(\"../data/koma/*.npz\"))):\n",
    "    file = np.load(series)\n",
    "    print(series)\n",
    "    series_imgs.append(file['imgs'].astype(np.float32))\n",
    "    series_labels.append(file['labels'])\n",
    "num_series = len(series_imgs)"
   ]
  },
  {
   "cell_type": "code",
   "execution_count": 44,
   "metadata": {
    "collapsed": true
   },
   "outputs": [],
   "source": [
    "# load all\n",
    "x_all = np.empty((0, img_rows, img_cols))\n",
    "y_all = np.empty((0, 2), np.int32)\n",
    "for i in range(num_series):\n",
    "    num_imgs = len(series_imgs[i])\n",
    "    x_all = np.r_[x_all, series_imgs[i]]\n",
    "    label_indices = []\n",
    "    for j, label in enumerate(series_labels[i]):\n",
    "        label_indices.append(labels.index(label))\n",
    "    label_and_series = np.c_[label_indices, np.full((num_imgs), i)]\n",
    "    y_all = np.r_[y_all, label_and_series]\n",
    "\n",
    "# num_classes = len(labels) * 2 + 1\n",
    "num_classes = len(labels)\n",
    "\n",
    "# # rot 180\n",
    "# x_all = np.r_[x_all, np.rot90(x_all, 2, (1, 2))]\n",
    "# y_rot = np.copy(y_all)\n",
    "# y_rot[:, 0] += len(labels)\n",
    "# y_all = np.r_[y_all, y_rot]\n",
    "\n",
    "# # space\n",
    "# space_imgs = np.load('../data/empty_cell.npz')['imgs'].astype(np.float32)\n",
    "# x_all = np.r_[x_all, space_imgs]\n",
    "# y_space = np.full((len(space_imgs), 2), [len(labels) * 2, num_series])\n",
    "# y_all = np.r_[y_all, y_space]\n",
    "\n",
    "# print(x_all.shape)\n",
    "# print(y_all.shape)\n",
    "\n",
    "# reshape to TF\n",
    "x_all = x_all.reshape(x_all.shape[0], img_rows, img_cols, 1)\n",
    "x_all = x_all.astype(np.float32)\n",
    "x_all /= 255"
   ]
  },
  {
   "cell_type": "code",
   "execution_count": 45,
   "metadata": {
    "collapsed": true
   },
   "outputs": [],
   "source": [
    "x_train, x_test, y_train, y_test = train_test_split(x_all, y_all, test_size=0.1)\n",
    "\n",
    "# convert class vectors to binary class matrices\n",
    "y_train = keras.utils.to_categorical(y_train[:, 0], num_classes)\n",
    "y_test = keras.utils.to_categorical(y_test[:, 0], num_classes)"
   ]
  },
  {
   "cell_type": "code",
   "execution_count": 46,
   "metadata": {
    "scrolled": true
   },
   "outputs": [
    {
     "name": "stdout",
     "output_type": "stream",
     "text": [
      "(1665, 64, 64, 1)\n",
      "(1665, 15)\n"
     ]
    }
   ],
   "source": [
    "from scipy import ndimage\n",
    "\n",
    "train_len = x_train.shape[0]\n",
    "\n",
    "# distortion (gaussian noise)\n",
    "# hard_noised = np.copy(x_train)\n",
    "# soft_noised = np.copy(x_train)\n",
    "hard_seed_1 = 1.0 * np.random.randn(train_len, IMG_ROWS, IMG_COLS, 1)\n",
    "hard_seed_2 = 1.5 * np.random.randn(train_len, IMG_ROWS, IMG_COLS, 1)\n",
    "hard_seed_3 = 1.5 * np.random.randn(train_len, IMG_ROWS, IMG_COLS, 1)\n",
    "soft_seed = 0.1 * np.random.randn(train_len, IMG_ROWS, IMG_COLS, 1)\n",
    "seed = np.absolute(np.r_[hard_seed_1, hard_seed_2, hard_seed_3, soft_seed])\n",
    "seed = ndimage.gaussian_filter(seed, 1)\n",
    "# noised = np.r_[np.copy(x_train), np.copy(x_train), np.copy(x_train), np.copy(x_train)]\n",
    "noised = np.r_[x_train, x_train, x_train, x_train]\n",
    "noised += seed\n",
    "noised /= (seed + 1)\n",
    "\n",
    "x_train = np.r_[x_train, noised]\n",
    "y_train = np.r_[y_train, y_train, y_train, y_train, y_train]\n",
    "\n",
    "print(x_train.shape)\n",
    "print(y_train.shape)\n",
    "\n",
    "# #  distortion (inverse)\n",
    "# choice = np.random.rand(train_len)\n",
    "# x_train[np.where(choice > 0.5)] *= -1\n",
    "# x_train[np.where(choice > 0.5)] += 1"
   ]
  },
  {
   "cell_type": "code",
   "execution_count": 47,
   "metadata": {
    "scrolled": true
   },
   "outputs": [
    {
     "data": {
      "image/png": "[encoded data removed]",
      "text/plain": [
       "<IPython.core.display.Image object>"
      ]
     },
     "metadata": {},
     "output_type": "display_data"
    },
    {
     "name": "stdout",
     "output_type": "stream",
     "text": [
      "13\n"
     ]
    },
    {
     "data": {
      "image/png": "[encoded data removed]",
      "text/plain": [
       "<IPython.core.display.Image object>"
      ]
     },
     "metadata": {},
     "output_type": "display_data"
    },
    {
     "name": "stdout",
     "output_type": "stream",
     "text": [
      "13\n"
     ]
    },
    {
     "data": {
      "image/png": "[encoded data removed]",
      "text/plain": [
       "<IPython.core.display.Image object>"
      ]
     },
     "metadata": {},
     "output_type": "display_data"
    },
    {
     "name": "stdout",
     "output_type": "stream",
     "text": [
      "13\n"
     ]
    },
    {
     "data": {
      "image/png": "[encoded data removed]",
      "text/plain": [
       "<IPython.core.display.Image object>"
      ]
     },
     "metadata": {},
     "output_type": "display_data"
    },
    {
     "name": "stdout",
     "output_type": "stream",
     "text": [
      "13\n"
     ]
    },
    {
     "data": {
      "image/png": "[encoded data removed]",
      "text/plain": [
       "<IPython.core.display.Image object>"
      ]
     },
     "metadata": {},
     "output_type": "display_data"
    },
    {
     "name": "stdout",
     "output_type": "stream",
     "text": [
      "13\n"
     ]
    }
   ],
   "source": [
    "for i in range(5):\n",
    "    display_image(x_train[i*333 + 1, :, :, 0] * 255)\n",
    "    print(np.argmax(y_train[i*333 + 1]))"
   ]
  },
  {
   "cell_type": "code",
   "execution_count": 48,
   "metadata": {
    "collapsed": true,
    "scrolled": true
   },
   "outputs": [],
   "source": [
    "from keras.models import load_model\n",
    "model = load_model(\"../etl8_noise_smoose.h5\")"
   ]
  },
  {
   "cell_type": "code",
   "execution_count": 49,
   "metadata": {
    "collapsed": true
   },
   "outputs": [],
   "source": [
    "for i in range(9):\n",
    "    model.pop()\n",
    "for l in model.layers:\n",
    "    l.trainable = False"
   ]
  },
  {
   "cell_type": "code",
   "execution_count": 50,
   "metadata": {
    "scrolled": true
   },
   "outputs": [
    {
     "name": "stdout",
     "output_type": "stream",
     "text": [
      "_________________________________________________________________\n",
      "Layer (type)                 Output Shape              Param #   \n",
      "=================================================================\n",
      "conv2d_1 (Conv2D)            (None, 62, 62, 32)        320       \n",
      "_________________________________________________________________\n",
      "batch_normalization_1 (Batch (None, 62, 62, 32)        128       \n",
      "_________________________________________________________________\n",
      "p_re_lu_1 (PReLU)            (None, 62, 62, 32)        123008    \n",
      "_________________________________________________________________\n",
      "max_pooling2d_1 (MaxPooling2 (None, 31, 31, 32)        0         \n",
      "_________________________________________________________________\n",
      "conv2d_2 (Conv2D)            (None, 29, 29, 64)        18496     \n",
      "_________________________________________________________________\n",
      "batch_normalization_2 (Batch (None, 29, 29, 64)        256       \n",
      "_________________________________________________________________\n",
      "p_re_lu_2 (PReLU)            (None, 29, 29, 64)        53824     \n",
      "_________________________________________________________________\n",
      "max_pooling2d_2 (MaxPooling2 (None, 14, 14, 64)        0         \n",
      "_________________________________________________________________\n",
      "conv2d_3 (Conv2D)            (None, 12, 12, 128)       73856     \n",
      "_________________________________________________________________\n",
      "batch_normalization_3 (Batch (None, 12, 12, 128)       512       \n",
      "_________________________________________________________________\n",
      "p_re_lu_3 (PReLU)            (None, 12, 12, 128)       18432     \n",
      "_________________________________________________________________\n",
      "max_pooling2d_3 (MaxPooling2 (None, 6, 6, 128)         0         \n",
      "_________________________________________________________________\n",
      "flatten_1 (Flatten)          (None, 4608)              0         \n",
      "_________________________________________________________________\n",
      "shogi_dense_1 (Dense)        (None, 1024)              4719616   \n",
      "_________________________________________________________________\n",
      "shogi_norm_1 (BatchNormaliza (None, 1024)              4096      \n",
      "_________________________________________________________________\n",
      "shogi_prelu_1 (PReLU)        (None, 1024)              1024      \n",
      "_________________________________________________________________\n",
      "shogi_dropout_1 (Dropout)    (None, 1024)              0         \n",
      "_________________________________________________________________\n",
      "shogi_dense_2 (Dense)        (None, 1024)              1049600   \n",
      "_________________________________________________________________\n",
      "shogi_norm_2 (BatchNormaliza (None, 1024)              4096      \n",
      "_________________________________________________________________\n",
      "shogi_prelu_2 (PReLU)        (None, 1024)              1024      \n",
      "_________________________________________________________________\n",
      "shogi_dropout_2 (Dropout)    (None, 1024)              0         \n",
      "_________________________________________________________________\n",
      "shogi_dense_out (Dense)      (None, 15)                15375     \n",
      "=================================================================\n",
      "Total params: 6,083,663\n",
      "Trainable params: 5,790,735\n",
      "Non-trainable params: 292,928\n",
      "_________________________________________________________________\n"
     ]
    }
   ],
   "source": [
    "model.add(Dense(1024, name='shogi_dense_1'))\n",
    "model.add(BatchNormalization(name='shogi_norm_1'))\n",
    "model.add(PReLU(name='shogi_prelu_1'))\n",
    "model.add(Dropout(0.25, name='shogi_dropout_1'))\n",
    "model.add(Dense(1024, name='shogi_dense_2'))\n",
    "model.add(BatchNormalization(name='shogi_norm_2'))\n",
    "model.add(PReLU(name='shogi_prelu_2'))\n",
    "model.add(Dropout(0.5, name='shogi_dropout_2'))\n",
    "# model.add(Dense(256, activation='relu'))\n",
    "# model.add(Dropout(0.5))\n",
    "model.add(Dense(num_classes, activation='softmax', name='shogi_dense_out'))\n",
    "\n",
    "model.summary()"
   ]
  },
  {
   "cell_type": "code",
   "execution_count": null,
   "metadata": {
    "scrolled": false
   },
   "outputs": [
    {
     "name": "stdout",
     "output_type": "stream",
     "text": [
      "Epoch 1/20\n",
      "1665/1665 [==============================] - 37s - loss: 0.1462 - acc: 0.9550 - val_loss: 1.1070 - val_acc: 0.7368\n",
      "Epoch 2/20\n",
      "1665/1665 [==============================] - 35s - loss: 0.1475 - acc: 0.9552 - val_loss: 1.2814 - val_acc: 0.7895\n",
      "Epoch 3/20\n",
      "1665/1665 [==============================] - 35s - loss: 0.1488 - acc: 0.9536 - val_loss: 1.0030 - val_acc: 0.8158\n",
      "Epoch 4/20\n",
      "1665/1665 [==============================] - 35s - loss: 0.1438 - acc: 0.9550 - val_loss: 1.2549 - val_acc: 0.7632\n",
      "Epoch 5/20\n",
      "1665/1665 [==============================] - 35s - loss: 0.1432 - acc: 0.9578 - val_loss: 1.2872 - val_acc: 0.7368\n",
      "Epoch 13/20\n",
      "1665/1665 [==============================] - 35s - loss: 0.1415 - acc: 0.9569 - val_loss: 1.0979 - val_acc: 0.7895\n",
      "Epoch 14/20\n",
      "1665/1665 [==============================] - 36s - loss: 0.1376 - acc: 0.9579 - val_loss: 1.4355 - val_acc: 0.7368\n",
      "Epoch 15/20\n",
      "1665/1665 [==============================] - 35s - loss: 0.1335 - acc: 0.9603 - val_loss: 1.4227 - val_acc: 0.7368\n",
      "Epoch 16/20\n",
      "1665/1665 [==============================] - 35s - loss: 0.1366 - acc: 0.9561 - val_loss: 1.3199 - val_acc: 0.7632\n",
      "Epoch 17/20\n",
      "1665/1665 [==============================] - 35s - loss: 0.1424 - acc: 0.9581 - val_loss: 1.0375 - val_acc: 0.8421\n",
      "Epoch 18/20\n",
      "1123/1665 [===================>..........] - ETA: 11s - loss: 0.1418 - acc: 0.9573"
     ]
    }
   ],
   "source": [
    "datagen = ImageDataGenerator(\n",
    "    rotation_range=15,\n",
    "    zoom_range=[0.55, 1.0],\n",
    "    width_shift_range=0.15,\n",
    "    height_shift_range=0.15,\n",
    "    fill_mode=\"constant\",\n",
    "    cval=0.9\n",
    ")\n",
    "model.compile(loss=keras.losses.categorical_crossentropy,\n",
    "              optimizer=keras.optimizers.Adadelta(),\n",
    "              metrics=['accuracy'])\n",
    "BATCH_SIZE = 16\n",
    "model.fit_generator(datagen.flow(x_train, y_train, batch_size=BATCH_SIZE), steps_per_epoch=x_train.shape[0],\n",
    "                    epochs=20, verbose=1, validation_data=(x_test, y_test))\n",
    "score = model.evaluate(x_test, y_test, verbose=0)\n",
    "print('Test loss:', score[0])\n",
    "print('Test accuracy:', score[1])"
   ]
  },
  {
   "cell_type": "code",
   "execution_count": 58,
   "metadata": {
    "collapsed": true
   },
   "outputs": [],
   "source": [
    "model.save(\"../purple_etl5_noise.h5\")"
   ]
  },
  {
   "cell_type": "code",
   "execution_count": 60,
   "metadata": {},
   "outputs": [
    {
     "name": "stdout",
     "output_type": "stream",
     "text": [
      "[14  1  7  6  6 13  0  7 12  0  6  8  2 14 13  6 13 11  0  9  8  1  0  6  4\n",
      "  2  0  7  0  6  3  7 10  4  9 11 10  9]\n",
      "[14  1  7  6  6 13  1  7 13  1  6  8  3 11 13  6 13 11  0  9  9  1  1  6  4\n",
      "  2  1  7  0  6  3  7  9  4  9 11 10  5]\n",
      "[ 6  8  9 12 13 20 22 26 32 37]\n"
     ]
    }
   ],
   "source": [
    "pred_res = model.predict(x_test)\n",
    "res = np.array([np.argmax(r) for r in pred_res])\n",
    "ans = np.array([np.where(y == 1)[0][0] for y in y_test])\n",
    "print(res)\n",
    "print(ans)\n",
    "correct = np.where(res == ans)[0]\n",
    "errors = np.where(res != ans)[0]\n",
    "print(errors)"
   ]
  },
  {
   "cell_type": "code",
   "execution_count": 61,
   "metadata": {
    "scrolled": false
   },
   "outputs": [
    {
     "data": {
      "image/png": "[encoded data removed]",
      "text/plain": [
       "<IPython.core.display.Image object>"
      ]
     },
     "metadata": {},
     "output_type": "display_data"
    },
    {
     "name": "stdout",
     "output_type": "stream",
     "text": [
      "gyoku\n"
     ]
    },
    {
     "data": {
      "image/png": "[encoded data removed]",
      "text/plain": [
       "<IPython.core.display.Image object>"
      ]
     },
     "metadata": {},
     "output_type": "display_data"
    },
    {
     "name": "stdout",
     "output_type": "stream",
     "text": [
      "uma\n"
     ]
    },
    {
     "data": {
      "image/png": "[encoded data removed]",
      "text/plain": [
       "<IPython.core.display.Image object>"
      ]
     },
     "metadata": {},
     "output_type": "display_data"
    },
    {
     "name": "stdout",
     "output_type": "stream",
     "text": [
      "gyoku\n"
     ]
    },
    {
     "data": {
      "image/png": "[encoded data removed]",
      "text/plain": [
       "<IPython.core.display.Image object>"
      ]
     },
     "metadata": {},
     "output_type": "display_data"
    },
    {
     "name": "stdout",
     "output_type": "stream",
     "text": [
      "kin\n"
     ]
    },
    {
     "data": {
      "image/png": "[encoded data removed]",
      "text/plain": [
       "<IPython.core.display.Image object>"
      ]
     },
     "metadata": {},
     "output_type": "display_data"
    },
    {
     "name": "stdout",
     "output_type": "stream",
     "text": [
      "to\n"
     ]
    },
    {
     "data": {
      "image/png": "[encoded data removed]",
      "text/plain": [
       "<IPython.core.display.Image object>"
      ]
     },
     "metadata": {},
     "output_type": "display_data"
    },
    {
     "name": "stdout",
     "output_type": "stream",
     "text": [
      "fu\n"
     ]
    },
    {
     "data": {
      "image/png": "[encoded data removed]",
      "text/plain": [
       "<IPython.core.display.Image object>"
      ]
     },
     "metadata": {},
     "output_type": "display_data"
    },
    {
     "name": "stdout",
     "output_type": "stream",
     "text": [
      "gyoku\n"
     ]
    },
    {
     "data": {
      "image/png": "[encoded data removed]",
      "text/plain": [
       "<IPython.core.display.Image object>"
      ]
     },
     "metadata": {},
     "output_type": "display_data"
    },
    {
     "name": "stdout",
     "output_type": "stream",
     "text": [
      "gyoku\n"
     ]
    },
    {
     "data": {
      "image/png": "[encoded data removed]",
      "text/plain": [
       "<IPython.core.display.Image object>"
      ]
     },
     "metadata": {},
     "output_type": "display_data"
    },
    {
     "name": "stdout",
     "output_type": "stream",
     "text": [
      "narikei\n"
     ]
    },
    {
     "data": {
      "image/png": "[encoded data removed]",
      "text/plain": [
       "<IPython.core.display.Image object>"
      ]
     },
     "metadata": {},
     "output_type": "display_data"
    },
    {
     "name": "stdout",
     "output_type": "stream",
     "text": [
      "narigin\n"
     ]
    }
   ],
   "source": [
    "for e in errors:\n",
    "    display_image(np.uint8(x_test[e] * 255)[:, :, 0])\n",
    "    if len(labels) > res[e]:\n",
    "        print(labels[res[e]])\n",
    "    else:\n",
    "        print(\"p\")\n",
    "        print(labels[res[e] - len(labels)])"
   ]
  },
  {
   "cell_type": "code",
   "execution_count": null,
   "metadata": {
    "collapsed": true
   },
   "outputs": [],
   "source": []
  }
 ],
 "metadata": {
  "kernelspec": {
   "display_name": "Python 3",
   "language": "python",
   "name": "python3"
  },
  "language_info": {
   "codemirror_mode": {
    "name": "ipython",
    "version": 3
   },
   "file_extension": ".py",
   "mimetype": "text/x-python",
   "name": "python",
   "nbconvert_exporter": "python",
   "pygments_lexer": "ipython3",
   "version": "3.5.2"
  }
 },
 "nbformat": 4,
 "nbformat_minor": 2
}
