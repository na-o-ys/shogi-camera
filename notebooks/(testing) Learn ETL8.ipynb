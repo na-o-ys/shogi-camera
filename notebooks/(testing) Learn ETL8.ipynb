{
 "cells": [
  {
   "cell_type": "code",
   "execution_count": 1,
   "metadata": {
    "collapsed": true,
    "scrolled": true
   },
   "outputs": [],
   "source": [
    "from PIL import Image\n",
    "from io import BytesIO\n",
    "from IPython import display\n",
    "import numpy as np\n",
    "\n",
    "def display_image(arr):\n",
    "    b = BytesIO()\n",
    "    Image.fromarray(np.uint8(arr)).save(b, format='png')\n",
    "    data = b.getvalue()\n",
    "    display.display(display.Image(data=data, format='png', embed=True))\n",
    "\n",
    "IMG_ROWS = 64\n",
    "IMG_COLS = 64\n",
    "\n",
    "data = np.load(\"../data/etl8.npz\")['data']"
   ]
  },
  {
   "cell_type": "code",
   "execution_count": 2,
   "metadata": {
    "scrolled": false
   },
   "outputs": [
    {
     "name": "stderr",
     "output_type": "stream",
     "text": [
      "Using TensorFlow backend.\n"
     ]
    }
   ],
   "source": [
    "import sklearn.model_selection\n",
    "import keras\n",
    "from scipy import ndimage\n",
    "\n",
    "NUM_CLASSES = 956\n",
    "\n",
    "# 150 ~ 159 for hyper parameters\n",
    "alldata = data[0:150]\n",
    "dataset_len = alldata.shape[0]\n",
    "\n",
    "# flatten\n",
    "x_all = alldata.reshape((dataset_len * NUM_CLASSES, IMG_ROWS, IMG_COLS, 1))\n",
    "x_all = x_all.astype(np.float32)\n",
    "x_all /= 255\n",
    "y_all = np.tile(np.arange(NUM_CLASSES), dataset_len)\n",
    "y_all = keras.utils.to_categorical(y_all, NUM_CLASSES)\n",
    "\n",
    "# # distortion (gaussian noise)\n",
    "# hard_len = int(dataset_len / 10)\n",
    "# soft_len = int(dataset_len / 2)\n",
    "# keep_len = dataset_len - hard_len - soft_len\n",
    "# hard_seed = 0.2 * np.random.randn(hard_len * NUM_CLASSES, IMG_ROWS, IMG_COLS, 1)\n",
    "# soft_seed = 0.05 * np.random.randn(soft_len * NUM_CLASSES, IMG_ROWS, IMG_COLS, 1)\n",
    "# keep_seed = np.zeros((keep_len * NUM_CLASSES, IMG_ROWS, IMG_COLS, 1))\n",
    "# seed = np.absolute(np.r_[hard_seed, soft_seed])\n",
    "# seed = ndimage.gaussian_filter(seed, 1)\n",
    "# seed = np.r_[seed, keep_seed]\n",
    "# np.random.shuffle(seed)\n",
    "# x_all += seed\n",
    "# x_all /= (seed + 1)\n",
    "\n",
    "# #  distortion (inverse)\n",
    "# choice = np.random.rand(dataset_len * NUM_CLASSES)\n",
    "# x_all[np.where(choice > 0.5)] *= -1\n",
    "# x_all[np.where(choice > 0.5)] += 1\n",
    "\n",
    "x_train, x_test, y_train, y_test = sklearn.model_selection.train_test_split(x_all, y_all, test_size=0.1)"
   ]
  },
  {
   "cell_type": "code",
   "execution_count": 3,
   "metadata": {
    "scrolled": true
   },
   "outputs": [
    {
     "name": "stdout",
     "output_type": "stream",
     "text": [
      "_________________________________________________________________\n",
      "Layer (type)                 Output Shape              Param #   \n",
      "=================================================================\n",
      "conv2d_1 (Conv2D)            (None, 62, 62, 32)        320       \n",
      "_________________________________________________________________\n",
      "batch_normalization_1 (Batch (None, 62, 62, 32)        128       \n",
      "_________________________________________________________________\n",
      "p_re_lu_1 (PReLU)            (None, 62, 62, 32)        123008    \n",
      "_________________________________________________________________\n",
      "max_pooling2d_1 (MaxPooling2 (None, 31, 31, 32)        0         \n",
      "_________________________________________________________________\n",
      "conv2d_2 (Conv2D)            (None, 29, 29, 64)        18496     \n",
      "_________________________________________________________________\n",
      "batch_normalization_2 (Batch (None, 29, 29, 64)        256       \n",
      "_________________________________________________________________\n",
      "p_re_lu_2 (PReLU)            (None, 29, 29, 64)        53824     \n",
      "_________________________________________________________________\n",
      "max_pooling2d_2 (MaxPooling2 (None, 14, 14, 64)        0         \n",
      "_________________________________________________________________\n",
      "conv2d_3 (Conv2D)            (None, 12, 12, 128)       73856     \n",
      "_________________________________________________________________\n",
      "batch_normalization_3 (Batch (None, 12, 12, 128)       512       \n",
      "_________________________________________________________________\n",
      "p_re_lu_3 (PReLU)            (None, 12, 12, 128)       18432     \n",
      "_________________________________________________________________\n",
      "max_pooling2d_3 (MaxPooling2 (None, 6, 6, 128)         0         \n",
      "_________________________________________________________________\n",
      "flatten_1 (Flatten)          (None, 4608)              0         \n",
      "_________________________________________________________________\n",
      "dense_1 (Dense)              (None, 1024)              4719616   \n",
      "_________________________________________________________________\n",
      "batch_normalization_4 (Batch (None, 1024)              4096      \n",
      "_________________________________________________________________\n",
      "p_re_lu_4 (PReLU)            (None, 1024)              1024      \n",
      "_________________________________________________________________\n",
      "dropout_1 (Dropout)          (None, 1024)              0         \n",
      "_________________________________________________________________\n",
      "dense_2 (Dense)              (None, 1024)              1049600   \n",
      "_________________________________________________________________\n",
      "batch_normalization_5 (Batch (None, 1024)              4096      \n",
      "_________________________________________________________________\n",
      "p_re_lu_5 (PReLU)            (None, 1024)              1024      \n",
      "_________________________________________________________________\n",
      "dropout_2 (Dropout)          (None, 1024)              0         \n",
      "_________________________________________________________________\n",
      "dense_3 (Dense)              (None, 956)               979900    \n",
      "=================================================================\n",
      "Total params: 7,048,188\n",
      "Trainable params: 7,043,644\n",
      "Non-trainable params: 4,544\n",
      "_________________________________________________________________\n"
     ]
    }
   ],
   "source": [
    "from keras.layers import Conv2D, MaxPooling2D, Input\n",
    "from keras.layers import Dense, Dropout, Flatten\n",
    "from keras.layers.merge import Concatenate\n",
    "from keras.models import Sequential, Model\n",
    "from keras.layers.normalization import BatchNormalization\n",
    "from keras.layers.advanced_activations import PReLU\n",
    "from keras.preprocessing.image import ImageDataGenerator\n",
    "\n",
    "input_shape = (IMG_ROWS, IMG_COLS, 1)\n",
    "\n",
    "model = Sequential()\n",
    "model.add(Conv2D(32, kernel_size=(3, 3), input_shape=input_shape))\n",
    "model.add(BatchNormalization())\n",
    "model.add(PReLU())\n",
    "model.add(MaxPooling2D(pool_size=(2, 2)))\n",
    "\n",
    "model.add(Conv2D(64, kernel_size=(3, 3), input_shape=input_shape))\n",
    "model.add(BatchNormalization())\n",
    "model.add(PReLU())\n",
    "model.add(MaxPooling2D(pool_size=(2, 2)))\n",
    "\n",
    "model.add(Conv2D(128, kernel_size=(3, 3), input_shape=input_shape))\n",
    "model.add(BatchNormalization())\n",
    "model.add(PReLU())\n",
    "model.add(MaxPooling2D(pool_size=(2, 2)))\n",
    "\n",
    "model.add(Flatten())\n",
    "model.add(Dense(1024))\n",
    "model.add(BatchNormalization())\n",
    "model.add(PReLU())\n",
    "model.add(Dropout(0.25))\n",
    "model.add(Dense(1024))\n",
    "model.add(BatchNormalization())\n",
    "model.add(PReLU())\n",
    "model.add(Dropout(0.5))\n",
    "model.add(Dense(NUM_CLASSES, activation='softmax'))\n",
    "\n",
    "model.compile(loss=keras.losses.categorical_crossentropy,\n",
    "        optimizer=keras.optimizers.Adadelta(),\n",
    "        metrics=['accuracy'])\n",
    "\n",
    "model.summary()"
   ]
  },
  {
   "cell_type": "code",
   "execution_count": 4,
   "metadata": {
    "scrolled": true
   },
   "outputs": [
    {
     "name": "stdout",
     "output_type": "stream",
     "text": [
      "Epoch 1/2\n",
      "1008/1008 [==============================] - 120s - loss: 5.5930 - acc: 0.0578 - val_loss: 3.7261 - val_acc: 0.2089\n",
      "Epoch 2/2\n",
      "1008/1008 [==============================] - 118s - loss: 2.2687 - acc: 0.4729 - val_loss: 1.2346 - val_acc: 0.6761\n"
     ]
    },
    {
     "data": {
      "text/plain": [
       "<keras.callbacks.History at 0x7eff792589b0>"
      ]
     },
     "execution_count": 4,
     "metadata": {},
     "output_type": "execute_result"
    }
   ],
   "source": [
    "from keras.callbacks import Callback, EarlyStopping\n",
    "datagen = ImageDataGenerator(\n",
    "    rotation_range=12,\n",
    "    zoom_range=[0.9, 1.5],\n",
    "    width_shift_range=0.2,\n",
    "    height_shift_range=0.2,\n",
    "    fill_mode=\"constant\",\n",
    "    cval=0.0\n",
    ")\n",
    "BATCH_SIZE = 128\n",
    "steps = int(x_train.shape[0] / BATCH_SIZE)\n",
    "model.fit_generator(datagen.flow(x_train, y_train, batch_size=BATCH_SIZE),\n",
    "        steps_per_epoch=steps, epochs=2, verbose=True,\n",
    "        validation_data=(x_test, y_test))"
   ]
  },
  {
   "cell_type": "code",
   "execution_count": 5,
   "metadata": {
    "scrolled": true
   },
   "outputs": [
    {
     "data": {
      "image/png": "[encoded data removed]",
      "text/plain": [
       "<IPython.core.display.Image object>"
      ]
     },
     "metadata": {},
     "output_type": "display_data"
    },
    {
     "data": {
      "image/png": "[encoded data removed]",
      "text/plain": [
       "<IPython.core.display.Image object>"
      ]
     },
     "metadata": {},
     "output_type": "display_data"
    },
    {
     "data": {
      "image/png": "[encoded data removed]",
      "text/plain": [
       "<IPython.core.display.Image object>"
      ]
     },
     "metadata": {},
     "output_type": "display_data"
    },
    {
     "data": {
      "image/png": "[encoded data removed]",
      "text/plain": [
       "<IPython.core.display.Image object>"
      ]
     },
     "metadata": {},
     "output_type": "display_data"
    },
    {
     "data": {
      "image/png": "[encoded data removed]",
      "text/plain": [
       "<IPython.core.display.Image object>"
      ]
     },
     "metadata": {},
     "output_type": "display_data"
    },
    {
     "data": {
      "image/png": "[encoded data removed]",
      "text/plain": [
       "<IPython.core.display.Image object>"
      ]
     },
     "metadata": {},
     "output_type": "display_data"
    },
    {
     "data": {
      "image/png": "[encoded data removed]",
      "text/plain": [
       "<IPython.core.display.Image object>"
      ]
     },
     "metadata": {},
     "output_type": "display_data"
    },
    {
     "data": {
      "image/png": "[encoded data removed]",
      "text/plain": [
       "<IPython.core.display.Image object>"
      ]
     },
     "metadata": {},
     "output_type": "display_data"
    },
    {
     "data": {
      "image/png": "[encoded data removed]",
      "text/plain": [
       "<IPython.core.display.Image object>"
      ]
     },
     "metadata": {},
     "output_type": "display_data"
    },
    {
     "data": {
      "image/png": "[encoded data removed]",
      "text/plain": [
       "<IPython.core.display.Image object>"
      ]
     },
     "metadata": {},
     "output_type": "display_data"
    }
   ],
   "source": [
    "train_len = x_train.shape[0]\n",
    "\n",
    "# distortion (gaussian noise)\n",
    "hard_len = int(train_len / 10)\n",
    "soft_len = int(train_len / 2)\n",
    "keep_len = train_len - hard_len - soft_len\n",
    "hard_seed = 0.2 * np.random.randn(hard_len, IMG_ROWS, IMG_COLS, 1)\n",
    "soft_seed = 0.05 * np.random.randn(soft_len, IMG_ROWS, IMG_COLS, 1)\n",
    "keep_seed = np.zeros((keep_len, IMG_ROWS, IMG_COLS, 1))\n",
    "seed = np.absolute(np.r_[hard_seed, soft_seed])\n",
    "seed = ndimage.gaussian_filter(seed, 1)\n",
    "seed = np.r_[seed, keep_seed]\n",
    "np.random.shuffle(seed)\n",
    "x_train += seed\n",
    "x_train /= (seed + 1)\n",
    "\n",
    "#  distortion (inverse)\n",
    "choice = np.random.rand(train_len)\n",
    "x_train[np.where(choice > 0.5)] *= -1\n",
    "x_train[np.where(choice > 0.5)] += 1\n",
    "\n",
    "for i in range(10):\n",
    "    display_image(x_train[i, :, :, 0] * 255)"
   ]
  },
  {
   "cell_type": "code",
   "execution_count": 6,
   "metadata": {
    "scrolled": false
   },
   "outputs": [
    {
     "name": "stdout",
     "output_type": "stream",
     "text": [
      "Epoch 1/50\n",
      "1008/1008 [==============================] - 118s - loss: 2.3413 - acc: 0.4795 - val_loss: 0.3342 - val_acc: 0.9356\n",
      "Epoch 2/50\n",
      "1008/1008 [==============================] - 118s - loss: 1.1052 - acc: 0.7154 - val_loss: 0.1943 - val_acc: 0.9613\n",
      "Epoch 3/50\n",
      "1008/1008 [==============================] - 118s - loss: 0.8139 - acc: 0.7859 - val_loss: 0.1714 - val_acc: 0.9636\n",
      "Epoch 4/50\n",
      "1008/1008 [==============================] - 118s - loss: 0.6479 - acc: 0.8268 - val_loss: 0.1502 - val_acc: 0.9625\n",
      "Epoch 5/50\n",
      "1008/1008 [==============================] - 118s - loss: 0.5441 - acc: 0.8535 - val_loss: 0.0932 - val_acc: 0.9781\n",
      "Epoch 6/50\n",
      "1008/1008 [==============================] - 118s - loss: 0.4752 - acc: 0.8725 - val_loss: 0.0945 - val_acc: 0.9759\n",
      "Epoch 7/50\n",
      "1008/1008 [==============================] - 118s - loss: 0.4277 - acc: 0.8844 - val_loss: 0.0959 - val_acc: 0.9738\n",
      "Epoch 8/50\n",
      "1008/1008 [==============================] - 118s - loss: 0.3934 - acc: 0.8931 - val_loss: 0.0778 - val_acc: 0.9794\n",
      "Epoch 9/50\n",
      "1008/1008 [==============================] - 118s - loss: 0.3644 - acc: 0.9024 - val_loss: 0.0750 - val_acc: 0.9801\n",
      "Epoch 10/50\n",
      "1008/1008 [==============================] - 118s - loss: 0.3429 - acc: 0.9082 - val_loss: 0.0603 - val_acc: 0.9853\n",
      "Epoch 11/50\n",
      "1008/1008 [==============================] - 118s - loss: 0.3210 - acc: 0.9142 - val_loss: 0.0535 - val_acc: 0.9861\n",
      "Epoch 12/50\n",
      "1008/1008 [==============================] - 118s - loss: 0.3067 - acc: 0.9174 - val_loss: 0.0545 - val_acc: 0.9867\n",
      "Epoch 13/50\n",
      "1008/1008 [==============================] - 118s - loss: 0.2951 - acc: 0.9217 - val_loss: 0.0544 - val_acc: 0.9862\n",
      "Epoch 14/50\n",
      "1008/1008 [==============================] - 118s - loss: 0.2841 - acc: 0.9247 - val_loss: 0.0482 - val_acc: 0.9880\n",
      "Epoch 15/50\n",
      "1008/1008 [==============================] - 118s - loss: 0.2715 - acc: 0.9281 - val_loss: 0.0502 - val_acc: 0.9872\n",
      "Epoch 16/50\n",
      "1008/1008 [==============================] - 118s - loss: 0.2664 - acc: 0.9295 - val_loss: 0.0468 - val_acc: 0.9877\n",
      "Epoch 17/50\n",
      "1008/1008 [==============================] - 118s - loss: 0.2546 - acc: 0.9334 - val_loss: 0.0418 - val_acc: 0.9895\n",
      "Epoch 18/50\n",
      "1008/1008 [==============================] - 118s - loss: 0.2496 - acc: 0.9351 - val_loss: 0.0450 - val_acc: 0.9884\n",
      "Epoch 19/50\n",
      "1008/1008 [==============================] - 118s - loss: 0.2484 - acc: 0.9354 - val_loss: 0.0399 - val_acc: 0.9904\n",
      "Epoch 20/50\n",
      "1008/1008 [==============================] - 118s - loss: 0.2441 - acc: 0.9360 - val_loss: 0.0456 - val_acc: 0.9873\n",
      "Epoch 21/50\n",
      "1008/1008 [==============================] - 118s - loss: 0.2402 - acc: 0.9385 - val_loss: 0.0387 - val_acc: 0.9904\n",
      "Epoch 22/50\n",
      "1008/1008 [==============================] - 118s - loss: 0.2334 - acc: 0.9395 - val_loss: 0.0370 - val_acc: 0.9911\n",
      "Epoch 23/50\n",
      "1008/1008 [==============================] - 118s - loss: 0.2284 - acc: 0.9415 - val_loss: 0.0439 - val_acc: 0.9895\n",
      "Epoch 24/50\n",
      "1008/1008 [==============================] - 118s - loss: 0.2288 - acc: 0.9425 - val_loss: 0.0374 - val_acc: 0.9907\n",
      "Epoch 25/50\n",
      "1008/1008 [==============================] - 118s - loss: 0.2226 - acc: 0.9440 - val_loss: 0.0440 - val_acc: 0.9895\n",
      "Epoch 26/50\n",
      "1008/1008 [==============================] - 118s - loss: 0.2232 - acc: 0.9443 - val_loss: 0.0365 - val_acc: 0.9904\n",
      "Epoch 27/50\n",
      "1008/1008 [==============================] - 118s - loss: 0.2206 - acc: 0.9445 - val_loss: 0.0386 - val_acc: 0.9902\n",
      "Epoch 28/50\n",
      "1008/1008 [==============================] - 118s - loss: 0.2138 - acc: 0.9471 - val_loss: 0.0359 - val_acc: 0.9925\n",
      "Epoch 29/50\n",
      "1008/1008 [==============================] - 118s - loss: 0.2160 - acc: 0.9469 - val_loss: 0.0405 - val_acc: 0.9904\n",
      "Epoch 30/50\n",
      "1008/1008 [==============================] - 118s - loss: 0.2166 - acc: 0.9467 - val_loss: 0.0418 - val_acc: 0.9904\n",
      "Epoch 31/50\n",
      "1008/1008 [==============================] - 118s - loss: 0.2115 - acc: 0.9484 - val_loss: 0.0390 - val_acc: 0.9911\n",
      "Epoch 32/50\n",
      "1008/1008 [==============================] - 118s - loss: 0.2092 - acc: 0.9496 - val_loss: 0.0381 - val_acc: 0.9909\n",
      "Epoch 33/50\n",
      "1008/1008 [==============================] - 118s - loss: 0.2119 - acc: 0.9496 - val_loss: 0.0419 - val_acc: 0.9894\n",
      "Epoch 34/50\n",
      "1008/1008 [==============================] - 118s - loss: 0.2104 - acc: 0.9504 - val_loss: 0.0373 - val_acc: 0.9918\n",
      "Epoch 35/50\n",
      "1008/1008 [==============================] - 118s - loss: 0.2055 - acc: 0.9515 - val_loss: 0.0403 - val_acc: 0.9909\n",
      "Epoch 36/50\n",
      "1008/1008 [==============================] - 118s - loss: 0.2056 - acc: 0.9522 - val_loss: 0.0437 - val_acc: 0.9898\n",
      "Epoch 37/50\n",
      "1008/1008 [==============================] - 118s - loss: 0.2031 - acc: 0.9539 - val_loss: 0.0403 - val_acc: 0.9898\n",
      "Epoch 38/50\n",
      "1008/1008 [==============================] - 118s - loss: 0.2035 - acc: 0.9542 - val_loss: 0.0397 - val_acc: 0.9911\n",
      "Epoch 39/50\n",
      "1008/1008 [==============================] - 118s - loss: 0.1984 - acc: 0.9560 - val_loss: 0.0385 - val_acc: 0.9904\n",
      "Epoch 40/50\n",
      "1008/1008 [==============================] - 118s - loss: 0.1981 - acc: 0.9569 - val_loss: 0.0368 - val_acc: 0.9918\n",
      "Epoch 41/50\n",
      "1008/1008 [==============================] - 118s - loss: 0.1971 - acc: 0.9572 - val_loss: 0.0375 - val_acc: 0.9920\n",
      "Epoch 42/50\n",
      "1008/1008 [==============================] - 118s - loss: 0.1970 - acc: 0.9571 - val_loss: 0.0483 - val_acc: 0.9900\n",
      "Epoch 43/50\n",
      "1008/1008 [==============================] - 118s - loss: 0.1911 - acc: 0.9590 - val_loss: 0.0383 - val_acc: 0.9916\n",
      "Epoch 44/50\n",
      "1008/1008 [==============================] - 118s - loss: 0.1918 - acc: 0.9587 - val_loss: 0.0411 - val_acc: 0.9911\n",
      "Epoch 45/50\n",
      "1008/1008 [==============================] - 118s - loss: 0.1885 - acc: 0.9592 - val_loss: 0.0523 - val_acc: 0.9903\n",
      "Epoch 46/50\n",
      "1008/1008 [==============================] - 118s - loss: 0.1881 - acc: 0.9590 - val_loss: 0.0382 - val_acc: 0.9919\n",
      "Epoch 47/50\n",
      "1008/1008 [==============================] - 118s - loss: 0.1870 - acc: 0.9601 - val_loss: 0.0385 - val_acc: 0.9926\n",
      "Epoch 48/50\n",
      "1008/1008 [==============================] - 118s - loss: 0.1820 - acc: 0.9615 - val_loss: 0.0373 - val_acc: 0.9934\n",
      "Epoch 49/50\n",
      "1008/1008 [==============================] - 118s - loss: 0.1786 - acc: 0.9618 - val_loss: 0.0373 - val_acc: 0.9918\n",
      "Epoch 50/50\n",
      "1008/1008 [==============================] - 118s - loss: 0.1774 - acc: 0.9626 - val_loss: 0.0382 - val_acc: 0.9922\n"
     ]
    },
    {
     "data": {
      "text/plain": [
       "<keras.callbacks.History at 0x7f02983d84e0>"
      ]
     },
     "execution_count": 6,
     "metadata": {},
     "output_type": "execute_result"
    }
   ],
   "source": [
    "BATCH_SIZE = 128\n",
    "steps = int(x_train.shape[0] / BATCH_SIZE)\n",
    "model.fit_generator(datagen.flow(x_train, y_train, batch_size=BATCH_SIZE),\n",
    "        steps_per_epoch=steps, epochs=50, verbose=True,\n",
    "        validation_data=(x_test, y_test))"
   ]
  },
  {
   "cell_type": "code",
   "execution_count": 7,
   "metadata": {
    "collapsed": true
   },
   "outputs": [],
   "source": [
    "model.save(\"../etl8_noise_smoose.h5\")"
   ]
  },
  {
   "cell_type": "code",
   "execution_count": 8,
   "metadata": {},
   "outputs": [
    {
     "name": "stdout",
     "output_type": "stream",
     "text": [
      "9504/9560 [============================>.] - ETA: 0s"
     ]
    },
    {
     "data": {
      "text/plain": [
       "[0.021832448980774903, 0.99529288702928875]"
      ]
     },
     "execution_count": 8,
     "metadata": {},
     "output_type": "execute_result"
    }
   ],
   "source": [
    "evaldata = data[150:]\n",
    "dataset_len = evaldata.shape[0]\n",
    "\n",
    "# flatten\n",
    "x_eval = evaldata.reshape((dataset_len * NUM_CLASSES, IMG_ROWS, IMG_COLS, 1))\n",
    "x_eval = x_eval.astype(np.float32)\n",
    "x_eval /= 255\n",
    "y_eval = np.tile(np.arange(NUM_CLASSES), dataset_len)\n",
    "y_eval = keras.utils.to_categorical(y_eval, NUM_CLASSES)\n",
    "\n",
    "model.evaluate(x_eval, y_eval)"
   ]
  },
  {
   "cell_type": "code",
   "execution_count": 9,
   "metadata": {
    "collapsed": true
   },
   "outputs": [],
   "source": [
    "score = model.predict(x_eval)\n",
    "# predicted = np.array([np.argmax(r) for r in score])\n",
    "predicted = np.argmax(score, axis=1)\n",
    "\n",
    "idx, val = np.where(y_eval == 1)\n",
    "ans = val[idx]\n",
    "\n",
    "correct = np.where(predicted == ans)[0]\n",
    "errors = np.where(predicted != ans)[0]"
   ]
  },
  {
   "cell_type": "code",
   "execution_count": 11,
   "metadata": {
    "scrolled": true
   },
   "outputs": [
    {
     "name": "stdout",
     "output_type": "stream",
     "text": [
      "45\n",
      "9515\n"
     ]
    },
    {
     "data": {
      "image/png": "[encoded data removed]",
      "text/plain": [
       "<IPython.core.display.Image object>"
      ]
     },
     "metadata": {},
     "output_type": "display_data"
    },
    {
     "data": {
      "image/png": "[encoded data removed]",
      "text/plain": [
       "<IPython.core.display.Image object>"
      ]
     },
     "metadata": {},
     "output_type": "display_data"
    },
    {
     "data": {
      "image/png": "[encoded data removed]",
      "text/plain": [
       "<IPython.core.display.Image object>"
      ]
     },
     "metadata": {},
     "output_type": "display_data"
    },
    {
     "data": {
      "image/png": "[encoded data removed]",
      "text/plain": [
       "<IPython.core.display.Image object>"
      ]
     },
     "metadata": {},
     "output_type": "display_data"
    },
    {
     "data": {
      "image/png": "[encoded data removed]",
      "text/plain": [
       "<IPython.core.display.Image object>"
      ]
     },
     "metadata": {},
     "output_type": "display_data"
    },
    {
     "data": {
      "image/png": "[encoded data removed]",
      "text/plain": [
       "<IPython.core.display.Image object>"
      ]
     },
     "metadata": {},
     "output_type": "display_data"
    },
    {
     "data": {
      "image/png": "[encoded data removed]",
      "text/plain": [
       "<IPython.core.display.Image object>"
      ]
     },
     "metadata": {},
     "output_type": "display_data"
    },
    {
     "data": {
      "image/png": "[encoded data removed]",
      "text/plain": [
       "<IPython.core.display.Image object>"
      ]
     },
     "metadata": {},
     "output_type": "display_data"
    },
    {
     "data": {
      "image/png": "[encoded data removed]",
      "text/plain": [
       "<IPython.core.display.Image object>"
      ]
     },
     "metadata": {},
     "output_type": "display_data"
    },
    {
     "data": {
      "image/png": "[encoded data removed]",
      "text/plain": [
       "<IPython.core.display.Image object>"
      ]
     },
     "metadata": {},
     "output_type": "display_data"
    },
    {
     "data": {
      "image/png": "[encoded data removed]",
      "text/plain": [
       "<IPython.core.display.Image object>"
      ]
     },
     "metadata": {},
     "output_type": "display_data"
    },
    {
     "data": {
      "image/png": "[encoded data removed]",
      "text/plain": [
       "<IPython.core.display.Image object>"
      ]
     },
     "metadata": {},
     "output_type": "display_data"
    },
    {
     "data": {
      "image/png": "[encoded data removed]",
      "text/plain": [
       "<IPython.core.display.Image object>"
      ]
     },
     "metadata": {},
     "output_type": "display_data"
    },
    {
     "data": {
      "image/png": "[encoded data removed]",
      "text/plain": [
       "<IPython.core.display.Image object>"
      ]
     },
     "metadata": {},
     "output_type": "display_data"
    },
    {
     "data": {
      "image/png": "[encoded data removed]",
      "text/plain": [
       "<IPython.core.display.Image object>"
      ]
     },
     "metadata": {},
     "output_type": "display_data"
    },
    {
     "data": {
      "image/png": "[encoded data removed]",
      "text/plain": [
       "<IPython.core.display.Image object>"
      ]
     },
     "metadata": {},
     "output_type": "display_data"
    },
    {
     "data": {
      "image/png": "[encoded data removed]",
      "text/plain": [
       "<IPython.core.display.Image object>"
      ]
     },
     "metadata": {},
     "output_type": "display_data"
    },
    {
     "data": {
      "image/png": "[encoded data removed]",
      "text/plain": [
       "<IPython.core.display.Image object>"
      ]
     },
     "metadata": {},
     "output_type": "display_data"
    },
    {
     "data": {
      "image/png": "[encoded data removed]",
      "text/plain": [
       "<IPython.core.display.Image object>"
      ]
     },
     "metadata": {},
     "output_type": "display_data"
    },
    {
     "data": {
      "image/png": "[encoded data removed]",
      "text/plain": [
       "<IPython.core.display.Image object>"
      ]
     },
     "metadata": {},
     "output_type": "display_data"
    },
    {
     "data": {
      "image/png": "[encoded data removed]",
      "text/plain": [
       "<IPython.core.display.Image object>"
      ]
     },
     "metadata": {},
     "output_type": "display_data"
    },
    {
     "data": {
      "image/png": "[encoded data removed]",
      "text/plain": [
       "<IPython.core.display.Image object>"
      ]
     },
     "metadata": {},
     "output_type": "display_data"
    },
    {
     "data": {
      "image/png": "[encoded data removed]",
      "text/plain": [
       "<IPython.core.display.Image object>"
      ]
     },
     "metadata": {},
     "output_type": "display_data"
    },
    {
     "data": {
      "image/png": "[encoded data removed]",
      "text/plain": [
       "<IPython.core.display.Image object>"
      ]
     },
     "metadata": {},
     "output_type": "display_data"
    },
    {
     "data": {
      "image/png": "[encoded data removed]",
      "text/plain": [
       "<IPython.core.display.Image object>"
      ]
     },
     "metadata": {},
     "output_type": "display_data"
    },
    {
     "data": {
      "image/png": "[encoded data removed]",
      "text/plain": [
       "<IPython.core.display.Image object>"
      ]
     },
     "metadata": {},
     "output_type": "display_data"
    },
    {
     "data": {
      "image/png": "[encoded data removed]",
      "text/plain": [
       "<IPython.core.display.Image object>"
      ]
     },
     "metadata": {},
     "output_type": "display_data"
    },
    {
     "data": {
      "image/png": "[encoded data removed]",
      "text/plain": [
       "<IPython.core.display.Image object>"
      ]
     },
     "metadata": {},
     "output_type": "display_data"
    },
    {
     "data": {
      "image/png": "[encoded data removed]",
      "text/plain": [
       "<IPython.core.display.Image object>"
      ]
     },
     "metadata": {},
     "output_type": "display_data"
    },
    {
     "data": {
      "image/png": "[encoded data removed]",
      "text/plain": [
       "<IPython.core.display.Image object>"
      ]
     },
     "metadata": {},
     "output_type": "display_data"
    },
    {
     "data": {
      "image/png": "[encoded data removed]",
      "text/plain": [
       "<IPython.core.display.Image object>"
      ]
     },
     "metadata": {},
     "output_type": "display_data"
    },
    {
     "data": {
      "image/png": "[encoded data removed]",
      "text/plain": [
       "<IPython.core.display.Image object>"
      ]
     },
     "metadata": {},
     "output_type": "display_data"
    },
    {
     "data": {
      "image/png": "[encoded data removed]",
      "text/plain": [
       "<IPython.core.display.Image object>"
      ]
     },
     "metadata": {},
     "output_type": "display_data"
    },
    {
     "data": {
      "image/png": "[encoded data removed]",
      "text/plain": [
       "<IPython.core.display.Image object>"
      ]
     },
     "metadata": {},
     "output_type": "display_data"
    },
    {
     "data": {
      "image/png": "[encoded data removed]",
      "text/plain": [
       "<IPython.core.display.Image object>"
      ]
     },
     "metadata": {},
     "output_type": "display_data"
    },
    {
     "data": {
      "image/png": "[encoded data removed]",
      "text/plain": [
       "<IPython.core.display.Image object>"
      ]
     },
     "metadata": {},
     "output_type": "display_data"
    },
    {
     "data": {
      "image/png": "[encoded data removed]",
      "text/plain": [
       "<IPython.core.display.Image object>"
      ]
     },
     "metadata": {},
     "output_type": "display_data"
    },
    {
     "data": {
      "image/png": "[encoded data removed]",
      "text/plain": [
       "<IPython.core.display.Image object>"
      ]
     },
     "metadata": {},
     "output_type": "display_data"
    },
    {
     "data": {
      "image/png": "[encoded data removed]",
      "text/plain": [
       "<IPython.core.display.Image object>"
      ]
     },
     "metadata": {},
     "output_type": "display_data"
    },
    {
     "data": {
      "image/png": "[encoded data removed]",
      "text/plain": [
       "<IPython.core.display.Image object>"
      ]
     },
     "metadata": {},
     "output_type": "display_data"
    },
    {
     "data": {
      "image/png": "[encoded data removed]",
      "text/plain": [
       "<IPython.core.display.Image object>"
      ]
     },
     "metadata": {},
     "output_type": "display_data"
    },
    {
     "data": {
      "image/png": "[encoded data removed]",
      "text/plain": [
       "<IPython.core.display.Image object>"
      ]
     },
     "metadata": {},
     "output_type": "display_data"
    },
    {
     "data": {
      "image/png": "[encoded data removed]",
      "text/plain": [
       "<IPython.core.display.Image object>"
      ]
     },
     "metadata": {},
     "output_type": "display_data"
    },
    {
     "data": {
      "image/png": "[encoded data removed]",
      "text/plain": [
       "<IPython.core.display.Image object>"
      ]
     },
     "metadata": {},
     "output_type": "display_data"
    },
    {
     "data": {
      "image/png": "[encoded data removed]",
      "text/plain": [
       "<IPython.core.display.Image object>"
      ]
     },
     "metadata": {},
     "output_type": "display_data"
    },
    {
     "data": {
      "image/png": "[encoded data removed]",
      "text/plain": [
       "<IPython.core.display.Image object>"
      ]
     },
     "metadata": {},
     "output_type": "display_data"
    },
    {
     "data": {
      "image/png": "[encoded data removed]",
      "text/plain": [
       "<IPython.core.display.Image object>"
      ]
     },
     "metadata": {},
     "output_type": "display_data"
    },
    {
     "data": {
      "image/png": "[encoded data removed]",
      "text/plain": [
       "<IPython.core.display.Image object>"
      ]
     },
     "metadata": {},
     "output_type": "display_data"
    },
    {
     "data": {
      "image/png": "[encoded data removed]",
      "text/plain": [
       "<IPython.core.display.Image object>"
      ]
     },
     "metadata": {},
     "output_type": "display_data"
    },
    {
     "data": {
      "image/png": "[encoded data removed]",
      "text/plain": [
       "<IPython.core.display.Image object>"
      ]
     },
     "metadata": {},
     "output_type": "display_data"
    },
    {
     "data": {
      "image/png": "[encoded data removed]",
      "text/plain": [
       "<IPython.core.display.Image object>"
      ]
     },
     "metadata": {},
     "output_type": "display_data"
    },
    {
     "data": {
      "image/png": "[encoded data removed]",
      "text/plain": [
       "<IPython.core.display.Image object>"
      ]
     },
     "metadata": {},
     "output_type": "display_data"
    },
    {
     "data": {
      "image/png": "[encoded data removed]",
      "text/plain": [
       "<IPython.core.display.Image object>"
      ]
     },
     "metadata": {},
     "output_type": "display_data"
    },
    {
     "data": {
      "image/png": "[encoded data removed]",
      "text/plain": [
       "<IPython.core.display.Image object>"
      ]
     },
     "metadata": {},
     "output_type": "display_data"
    },
    {
     "data": {
      "image/png": "[encoded data removed]",
      "text/plain": [
       "<IPython.core.display.Image object>"
      ]
     },
     "metadata": {},
     "output_type": "display_data"
    },
    {
     "data": {
      "image/png": "[encoded data removed]",
      "text/plain": [
       "<IPython.core.display.Image object>"
      ]
     },
     "metadata": {},
     "output_type": "display_data"
    },
    {
     "data": {
      "image/png": "[encoded data removed]",
      "text/plain": [
       "<IPython.core.display.Image object>"
      ]
     },
     "metadata": {},
     "output_type": "display_data"
    },
    {
     "data": {
      "image/png": "[encoded data removed]",
      "text/plain": [
       "<IPython.core.display.Image object>"
      ]
     },
     "metadata": {},
     "output_type": "display_data"
    },
    {
     "data": {
      "image/png": "[encoded data removed]",
      "text/plain": [
       "<IPython.core.display.Image object>"
      ]
     },
     "metadata": {},
     "output_type": "display_data"
    },
    {
     "data": {
      "image/png": "[encoded data removed]",
      "text/plain": [
       "<IPython.core.display.Image object>"
      ]
     },
     "metadata": {},
     "output_type": "display_data"
    },
    {
     "data": {
      "image/png": "[encoded data removed]",
      "text/plain": [
       "<IPython.core.display.Image object>"
      ]
     },
     "metadata": {},
     "output_type": "display_data"
    },
    {
     "data": {
      "image/png": "[encoded data removed]",
      "text/plain": [
       "<IPython.core.display.Image object>"
      ]
     },
     "metadata": {},
     "output_type": "display_data"
    },
    {
     "data": {
      "image/png": "[encoded data removed]",
      "text/plain": [
       "<IPython.core.display.Image object>"
      ]
     },
     "metadata": {},
     "output_type": "display_data"
    },
    {
     "data": {
      "image/png": "[encoded data removed]",
      "text/plain": [
       "<IPython.core.display.Image object>"
      ]
     },
     "metadata": {},
     "output_type": "display_data"
    },
    {
     "data": {
      "image/png": "[encoded data removed]",
      "text/plain": [
       "<IPython.core.display.Image object>"
      ]
     },
     "metadata": {},
     "output_type": "display_data"
    },
    {
     "data": {
      "image/png": "[encoded data removed]",
      "text/plain": [
       "<IPython.core.display.Image object>"
      ]
     },
     "metadata": {},
     "output_type": "display_data"
    },
    {
     "data": {
      "image/png": "[encoded data removed]",
      "text/plain": [
       "<IPython.core.display.Image object>"
      ]
     },
     "metadata": {},
     "output_type": "display_data"
    },
    {
     "data": {
      "image/png": "[encoded data removed]",
      "text/plain": [
       "<IPython.core.display.Image object>"
      ]
     },
     "metadata": {},
     "output_type": "display_data"
    },
    {
     "data": {
      "image/png": "[encoded data removed]",
      "text/plain": [
       "<IPython.core.display.Image object>"
      ]
     },
     "metadata": {},
     "output_type": "display_data"
    },
    {
     "data": {
      "image/png": "[encoded data removed]",
      "text/plain": [
       "<IPython.core.display.Image object>"
      ]
     },
     "metadata": {},
     "output_type": "display_data"
    },
    {
     "data": {
      "image/png": "[encoded data removed]",
      "text/plain": [
       "<IPython.core.display.Image object>"
      ]
     },
     "metadata": {},
     "output_type": "display_data"
    },
    {
     "data": {
      "image/png": "[encoded data removed]",
      "text/plain": [
       "<IPython.core.display.Image object>"
      ]
     },
     "metadata": {},
     "output_type": "display_data"
    },
    {
     "data": {
      "image/png": "[encoded data removed]",
      "text/plain": [
       "<IPython.core.display.Image object>"
      ]
     },
     "metadata": {},
     "output_type": "display_data"
    },
    {
     "data": {
      "image/png": "[encoded data removed]",
      "text/plain": [
       "<IPython.core.display.Image object>"
      ]
     },
     "metadata": {},
     "output_type": "display_data"
    },
    {
     "data": {
      "image/png": "[encoded data removed]",
      "text/plain": [
       "<IPython.core.display.Image object>"
      ]
     },
     "metadata": {},
     "output_type": "display_data"
    },
    {
     "data": {
      "image/png": "[encoded data removed]",
      "text/plain": [
       "<IPython.core.display.Image object>"
      ]
     },
     "metadata": {},
     "output_type": "display_data"
    },
    {
     "data": {
      "image/png": "[encoded data removed]",
      "text/plain": [
       "<IPython.core.display.Image object>"
      ]
     },
     "metadata": {},
     "output_type": "display_data"
    },
    {
     "data": {
      "image/png": "[encoded data removed]",
      "text/plain": [
       "<IPython.core.display.Image object>"
      ]
     },
     "metadata": {},
     "output_type": "display_data"
    },
    {
     "data": {
      "image/png": "[encoded data removed]",
      "text/plain": [
       "<IPython.core.display.Image object>"
      ]
     },
     "metadata": {},
     "output_type": "display_data"
    },
    {
     "data": {
      "image/png": "[encoded data removed]",
      "text/plain": [
       "<IPython.core.display.Image object>"
      ]
     },
     "metadata": {},
     "output_type": "display_data"
    },
    {
     "data": {
      "image/png": "[encoded data removed]",
      "text/plain": [
       "<IPython.core.display.Image object>"
      ]
     },
     "metadata": {},
     "output_type": "display_data"
    },
    {
     "data": {
      "image/png": "[encoded data removed]",
      "text/plain": [
       "<IPython.core.display.Image object>"
      ]
     },
     "metadata": {},
     "output_type": "display_data"
    },
    {
     "data": {
      "image/png": "[encoded data removed]",
      "text/plain": [
       "<IPython.core.display.Image object>"
      ]
     },
     "metadata": {},
     "output_type": "display_data"
    },
    {
     "data": {
      "image/png": "[encoded data removed]",
      "text/plain": [
       "<IPython.core.display.Image object>"
      ]
     },
     "metadata": {},
     "output_type": "display_data"
    },
    {
     "data": {
      "image/png": "[encoded data removed]",
      "text/plain": [
       "<IPython.core.display.Image object>"
      ]
     },
     "metadata": {},
     "output_type": "display_data"
    },
    {
     "data": {
      "image/png": "[encoded data removed]",
      "text/plain": [
       "<IPython.core.display.Image object>"
      ]
     },
     "metadata": {},
     "output_type": "display_data"
    },
    {
     "data": {
      "image/png": "[encoded data removed]",
      "text/plain": [
       "<IPython.core.display.Image object>"
      ]
     },
     "metadata": {},
     "output_type": "display_data"
    },
    {
     "data": {
      "image/png": "[encoded data removed]",
      "text/plain": [
       "<IPython.core.display.Image object>"
      ]
     },
     "metadata": {},
     "output_type": "display_data"
    },
    {
     "data": {
      "image/png": "[encoded data removed]",
      "text/plain": [
       "<IPython.core.display.Image object>"
      ]
     },
     "metadata": {},
     "output_type": "display_data"
    },
    {
     "data": {
      "image/png": "[encoded data removed]",
      "text/plain": [
       "<IPython.core.display.Image object>"
      ]
     },
     "metadata": {},
     "output_type": "display_data"
    }
   ],
   "source": [
    "print(len(errors))\n",
    "print(len(correct))\n",
    "for e in errors:\n",
    "    display_image((x_eval[e] * 255).reshape(IMG_ROWS, IMG_COLS))\n",
    "    display_image(data[0][predicted[e]])"
   ]
  },
  {
   "cell_type": "code",
   "execution_count": null,
   "metadata": {
    "collapsed": true
   },
   "outputs": [],
   "source": []
  }
 ],
 "metadata": {
  "kernelspec": {
   "display_name": "Python 3",
   "language": "python",
   "name": "python3"
  },
  "language_info": {
   "codemirror_mode": {
    "name": "ipython",
    "version": 3
   },
   "file_extension": ".py",
   "mimetype": "text/x-python",
   "name": "python",
   "nbconvert_exporter": "python",
   "pygments_lexer": "ipython3",
   "version": "3.5.2"
  }
 },
 "nbformat": 4,
 "nbformat_minor": 2
}
