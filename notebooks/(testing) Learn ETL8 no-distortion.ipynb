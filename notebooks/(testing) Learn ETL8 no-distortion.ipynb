{
 "cells": [
  {
   "cell_type": "code",
   "execution_count": 1,
   "metadata": {
    "collapsed": true,
    "scrolled": true
   },
   "outputs": [],
   "source": [
    "from PIL import Image\n",
    "from io import BytesIO\n",
    "from IPython import display\n",
    "import numpy as np\n",
    "\n",
    "def display_image(arr):\n",
    "    b = BytesIO()\n",
    "    Image.fromarray(np.uint8(arr)).save(b, format='png')\n",
    "    data = b.getvalue()\n",
    "    display.display(display.Image(data=data, format='png', embed=True))\n",
    "\n",
    "IMG_ROWS = 64\n",
    "IMG_COLS = 64\n",
    "\n",
    "data = np.load(\"../data/etl8.npz\")['data']"
   ]
  },
  {
   "cell_type": "code",
   "execution_count": 2,
   "metadata": {
    "scrolled": false
   },
   "outputs": [
    {
     "name": "stderr",
     "output_type": "stream",
     "text": [
      "Using TensorFlow backend.\n"
     ]
    }
   ],
   "source": [
    "import sklearn.model_selection\n",
    "import keras\n",
    "\n",
    "NUM_CLASSES = 956\n",
    "\n",
    "# 150 ~ 159 for hyper parameters\n",
    "alldata = data[0:150]\n",
    "dataset_len = alldata.shape[0]\n",
    "\n",
    "# flatten\n",
    "x_all = alldata.reshape((dataset_len * NUM_CLASSES, IMG_ROWS, IMG_COLS, 1))\n",
    "x_all = x_all.astype(np.float32)\n",
    "x_all /= 255\n",
    "y_all = np.tile(np.arange(NUM_CLASSES), dataset_len)\n",
    "y_all = keras.utils.to_categorical(y_all, NUM_CLASSES)\n",
    "\n",
    "x_train, x_test, y_train, y_test = sklearn.model_selection.train_test_split(x_all, y_all, test_size=0.1)"
   ]
  },
  {
   "cell_type": "code",
   "execution_count": 3,
   "metadata": {
    "scrolled": true
   },
   "outputs": [
    {
     "name": "stdout",
     "output_type": "stream",
     "text": [
      "_________________________________________________________________\n",
      "Layer (type)                 Output Shape              Param #   \n",
      "=================================================================\n",
      "conv2d_1 (Conv2D)            (None, 62, 62, 32)        320       \n",
      "_________________________________________________________________\n",
      "max_pooling2d_1 (MaxPooling2 (None, 31, 31, 32)        0         \n",
      "_________________________________________________________________\n",
      "conv2d_2 (Conv2D)            (None, 29, 29, 64)        18496     \n",
      "_________________________________________________________________\n",
      "max_pooling2d_2 (MaxPooling2 (None, 14, 14, 64)        0         \n",
      "_________________________________________________________________\n",
      "conv2d_3 (Conv2D)            (None, 12, 12, 128)       73856     \n",
      "_________________________________________________________________\n",
      "max_pooling2d_3 (MaxPooling2 (None, 6, 6, 128)         0         \n",
      "_________________________________________________________________\n",
      "flatten_1 (Flatten)          (None, 4608)              0         \n",
      "_________________________________________________________________\n",
      "dense_1 (Dense)              (None, 1024)              4719616   \n",
      "_________________________________________________________________\n",
      "dropout_1 (Dropout)          (None, 1024)              0         \n",
      "_________________________________________________________________\n",
      "dense_2 (Dense)              (None, 1024)              1049600   \n",
      "_________________________________________________________________\n",
      "dropout_2 (Dropout)          (None, 1024)              0         \n",
      "_________________________________________________________________\n",
      "dense_3 (Dense)              (None, 956)               979900    \n",
      "=================================================================\n",
      "Total params: 6,841,788\n",
      "Trainable params: 6,841,788\n",
      "Non-trainable params: 0\n",
      "_________________________________________________________________\n"
     ]
    }
   ],
   "source": [
    "from keras.layers import Conv2D, MaxPooling2D, Input\n",
    "from keras.layers import Dense, Dropout, Flatten\n",
    "from keras.layers.merge import Concatenate\n",
    "from keras.models import Sequential, Model\n",
    "from keras.preprocessing.image import ImageDataGenerator\n",
    "\n",
    "input_shape = (IMG_ROWS, IMG_COLS, 1)\n",
    "\n",
    "model = Sequential()\n",
    "model.add(Conv2D(32, kernel_size=(3, 3), activation='relu', input_shape=input_shape))\n",
    "model.add(MaxPooling2D(pool_size=(2, 2)))\n",
    "\n",
    "model.add(Conv2D(64, kernel_size=(3, 3), activation='relu', input_shape=input_shape))\n",
    "model.add(MaxPooling2D(pool_size=(2, 2)))\n",
    "\n",
    "model.add(Conv2D(128, kernel_size=(3, 3), activation='relu', input_shape=input_shape))\n",
    "model.add(MaxPooling2D(pool_size=(2, 2)))\n",
    "\n",
    "model.add(Flatten())\n",
    "model.add(Dense(1024, activation='relu'))\n",
    "model.add(Dropout(0.25))\n",
    "model.add(Dense(1024, activation='relu'))\n",
    "model.add(Dropout(0.5))\n",
    "model.add(Dense(NUM_CLASSES, activation='softmax'))\n",
    "\n",
    "model.compile(loss=keras.losses.categorical_crossentropy,\n",
    "        optimizer=keras.optimizers.Adadelta(),\n",
    "        metrics=['accuracy'])\n",
    "\n",
    "model.summary()"
   ]
  },
  {
   "cell_type": "code",
   "execution_count": 4,
   "metadata": {},
   "outputs": [
    {
     "name": "stdout",
     "output_type": "stream",
     "text": [
      "Epoch 1/50\n",
      "4033/4033 [==============================] - 121s - loss: 6.4108 - acc: 0.0048 - val_loss: 4.9178 - val_acc: 0.0445\n",
      "Epoch 2/50\n",
      "4033/4033 [==============================] - 120s - loss: 4.2241 - acc: 0.1017 - val_loss: 1.9036 - val_acc: 0.5335\n",
      "Epoch 3/50\n",
      "4033/4033 [==============================] - 121s - loss: 2.5357 - acc: 0.3384 - val_loss: 0.8771 - val_acc: 0.7792\n",
      "Epoch 4/50\n",
      "4033/4033 [==============================] - 120s - loss: 1.6625 - acc: 0.5321 - val_loss: 0.3901 - val_acc: 0.8961\n",
      "Epoch 5/50\n",
      "4033/4033 [==============================] - 121s - loss: 1.1946 - acc: 0.6557 - val_loss: 0.2291 - val_acc: 0.9366\n",
      "Epoch 6/50\n",
      "4033/4033 [==============================] - 121s - loss: 0.9236 - acc: 0.7274 - val_loss: 0.1696 - val_acc: 0.9501\n",
      "Epoch 7/50\n",
      "4033/4033 [==============================] - 120s - loss: 0.7565 - acc: 0.7774 - val_loss: 0.1261 - val_acc: 0.9647\n",
      "Epoch 8/50\n",
      "4033/4033 [==============================] - 121s - loss: 0.6458 - acc: 0.8097 - val_loss: 0.1028 - val_acc: 0.9710\n",
      "Epoch 9/50\n",
      "4033/4033 [==============================] - 121s - loss: 0.5653 - acc: 0.8324 - val_loss: 0.0929 - val_acc: 0.9718\n",
      "Epoch 10/50\n",
      "4033/4033 [==============================] - 121s - loss: 0.5091 - acc: 0.8498 - val_loss: 0.0892 - val_acc: 0.9722\n",
      "Epoch 11/50\n",
      "4033/4033 [==============================] - 121s - loss: 0.4614 - acc: 0.8630 - val_loss: 0.0704 - val_acc: 0.9805\n",
      "Epoch 12/50\n",
      "4033/4033 [==============================] - 121s - loss: 0.4286 - acc: 0.8741 - val_loss: 0.0590 - val_acc: 0.9828\n",
      "Epoch 13/50\n",
      "4033/4033 [==============================] - 121s - loss: 0.4020 - acc: 0.8819 - val_loss: 0.0664 - val_acc: 0.9817\n",
      "Epoch 14/50\n",
      "4033/4033 [==============================] - 121s - loss: 0.3855 - acc: 0.8874 - val_loss: 0.0599 - val_acc: 0.9833\n",
      "Epoch 15/50\n",
      "4033/4033 [==============================] - 120s - loss: 0.3711 - acc: 0.8914 - val_loss: 0.0541 - val_acc: 0.9838\n",
      "Epoch 16/50\n",
      "4033/4033 [==============================] - 120s - loss: 0.3510 - acc: 0.8976 - val_loss: 0.0539 - val_acc: 0.9850\n",
      "Epoch 17/50\n",
      "4033/4033 [==============================] - 121s - loss: 0.3412 - acc: 0.9010 - val_loss: 0.0531 - val_acc: 0.9835\n",
      "Epoch 18/50\n",
      "4033/4033 [==============================] - 120s - loss: 0.3372 - acc: 0.9028 - val_loss: 0.0647 - val_acc: 0.9824\n",
      "Epoch 19/50\n",
      "4033/4033 [==============================] - 121s - loss: 0.3242 - acc: 0.9065 - val_loss: 0.0615 - val_acc: 0.9838\n",
      "Epoch 20/50\n",
      "4033/4033 [==============================] - 121s - loss: 0.3200 - acc: 0.9080 - val_loss: 0.0508 - val_acc: 0.9868\n",
      "Epoch 21/50\n",
      "4033/4033 [==============================] - 121s - loss: 0.3085 - acc: 0.9113 - val_loss: 0.0468 - val_acc: 0.9868\n",
      "Epoch 22/50\n",
      "4033/4033 [==============================] - 121s - loss: 0.3106 - acc: 0.9106 - val_loss: 0.0564 - val_acc: 0.9836\n",
      "Epoch 23/50\n",
      "4033/4033 [==============================] - 121s - loss: 0.2940 - acc: 0.9151 - val_loss: 0.0529 - val_acc: 0.9849\n",
      "Epoch 24/50\n",
      "4033/4033 [==============================] - 121s - loss: 0.2950 - acc: 0.9164 - val_loss: 0.0431 - val_acc: 0.9886\n",
      "Epoch 25/50\n",
      "4033/4033 [==============================] - 121s - loss: 0.2942 - acc: 0.9150 - val_loss: 0.0407 - val_acc: 0.9893\n",
      "Epoch 26/50\n",
      "4033/4033 [==============================] - 121s - loss: 0.2866 - acc: 0.9180 - val_loss: 0.0454 - val_acc: 0.9874\n",
      "Epoch 27/50\n",
      "4033/4033 [==============================] - 121s - loss: 0.2780 - acc: 0.9205 - val_loss: 0.0452 - val_acc: 0.9886\n",
      "Epoch 28/50\n",
      "4033/4033 [==============================] - 121s - loss: 0.2771 - acc: 0.9212 - val_loss: 0.0525 - val_acc: 0.9868\n",
      "Epoch 29/50\n",
      "4033/4033 [==============================] - 120s - loss: 0.2799 - acc: 0.9204 - val_loss: 0.0380 - val_acc: 0.9897\n",
      "Epoch 30/50\n",
      "4033/4033 [==============================] - 120s - loss: 0.2692 - acc: 0.9235 - val_loss: 0.0564 - val_acc: 0.9859\n",
      "Epoch 31/50\n",
      "4033/4033 [==============================] - 120s - loss: 0.2678 - acc: 0.9240 - val_loss: 0.0467 - val_acc: 0.9861\n",
      "Epoch 32/50\n",
      "4033/4033 [==============================] - 120s - loss: 0.2664 - acc: 0.9248 - val_loss: 0.0442 - val_acc: 0.9888\n",
      "Epoch 33/50\n",
      "4033/4033 [==============================] - 120s - loss: 0.2672 - acc: 0.9247 - val_loss: 0.0419 - val_acc: 0.9884\n",
      "Epoch 34/50\n",
      "4033/4033 [==============================] - 120s - loss: 0.2600 - acc: 0.9268 - val_loss: 0.0401 - val_acc: 0.9893\n"
     ]
    },
    {
     "data": {
      "text/plain": [
       "<keras.callbacks.History at 0x7f8158685e10>"
      ]
     },
     "execution_count": 4,
     "metadata": {},
     "output_type": "execute_result"
    }
   ],
   "source": [
    "from keras.callbacks import Callback, EarlyStopping\n",
    "datagen = ImageDataGenerator(\n",
    "    rotation_range=12,\n",
    "    zoom_range=[0.9, 1.5],\n",
    "    width_shift_range=0.2,\n",
    "    height_shift_range=0.2,\n",
    "    fill_mode=\"constant\",\n",
    "    cval=0.0\n",
    ")\n",
    "BATCH_SIZE = 32\n",
    "steps = int(x_train.shape[0] / BATCH_SIZE)\n",
    "model.fit_generator(datagen.flow(x_train, y_train, batch_size=BATCH_SIZE),\n",
    "        steps_per_epoch=steps, epochs=50, verbose=True,\n",
    "        callbacks=[EarlyStopping(patience=4)],\n",
    "        validation_data=(x_test, y_test))"
   ]
  },
  {
   "cell_type": "code",
   "execution_count": 5,
   "metadata": {
    "collapsed": true
   },
   "outputs": [],
   "source": [
    "score = model.predict(x_test)\n",
    "# predicted = np.array([np.argmax(r) for r in score])\n",
    "predicted = np.argmax(score, axis=1)\n",
    "\n",
    "idx, val = np.where(y_test == 1)\n",
    "ans = val[idx]\n",
    "\n",
    "correct = np.where(predicted == ans)[0]\n",
    "errors = np.where(predicted != ans)[0]"
   ]
  },
  {
   "cell_type": "code",
   "execution_count": 6,
   "metadata": {
    "collapsed": true
   },
   "outputs": [],
   "source": [
    "# print(len(errors))\n",
    "# print(len(correct))\n",
    "# e = errors[21]\n",
    "# display_image((x_test[e] * 255).reshape(IMG_ROWS, IMG_COLS))\n",
    "# display_image(data[0][predicted[e]])"
   ]
  },
  {
   "cell_type": "code",
   "execution_count": 7,
   "metadata": {
    "collapsed": true
   },
   "outputs": [],
   "source": [
    "model.save(\"../etl8_neru.h5\")"
   ]
  },
  {
   "cell_type": "code",
   "execution_count": 8,
   "metadata": {},
   "outputs": [
    {
     "name": "stdout",
     "output_type": "stream",
     "text": [
      "9504/9560 [============================>.] - ETA: 0s"
     ]
    },
    {
     "data": {
      "text/plain": [
       "[0.021943098962359704, 0.99330543933054394]"
      ]
     },
     "execution_count": 8,
     "metadata": {},
     "output_type": "execute_result"
    }
   ],
   "source": [
    "evaldata = data[150:]\n",
    "dataset_len = evaldata.shape[0]\n",
    "\n",
    "# flatten\n",
    "x_eval = evaldata.reshape((dataset_len * NUM_CLASSES, IMG_ROWS, IMG_COLS, 1))\n",
    "x_eval = x_eval.astype(np.float32)\n",
    "x_eval /= 255\n",
    "y_eval = np.tile(np.arange(NUM_CLASSES), dataset_len)\n",
    "y_eval = keras.utils.to_categorical(y_eval, NUM_CLASSES)\n",
    "\n",
    "model.evaluate(x_eval, y_eval)"
   ]
  },
  {
   "cell_type": "code",
   "execution_count": 20,
   "metadata": {
    "scrolled": false
   },
   "outputs": [
    {
     "name": "stdout",
     "output_type": "stream",
     "text": [
      "153\n",
      "14187\n"
     ]
    },
    {
     "data": {
      "image/png": "[encoded data removed]",
      "text/plain": [
       "<IPython.core.display.Image object>"
      ]
     },
     "metadata": {},
     "output_type": "display_data"
    },
    {
     "data": {
      "image/png": "[encoded data removed]",
      "text/plain": [
       "<IPython.core.display.Image object>"
      ]
     },
     "metadata": {},
     "output_type": "display_data"
    },
    {
     "data": {
      "image/png": "[encoded data removed]",
      "text/plain": [
       "<IPython.core.display.Image object>"
      ]
     },
     "metadata": {},
     "output_type": "display_data"
    },
    {
     "data": {
      "image/png": "[encoded data removed]",
      "text/plain": [
       "<IPython.core.display.Image object>"
      ]
     },
     "metadata": {},
     "output_type": "display_data"
    },
    {
     "data": {
      "image/png": "[encoded data removed]",
      "text/plain": [
       "<IPython.core.display.Image object>"
      ]
     },
     "metadata": {},
     "output_type": "display_data"
    },
    {
     "data": {
      "image/png": "[encoded data removed]",
      "text/plain": [
       "<IPython.core.display.Image object>"
      ]
     },
     "metadata": {},
     "output_type": "display_data"
    },
    {
     "data": {
      "image/png": "[encoded data removed]",
      "text/plain": [
       "<IPython.core.display.Image object>"
      ]
     },
     "metadata": {},
     "output_type": "display_data"
    },
    {
     "data": {
      "image/png": "[encoded data removed]",
      "text/plain": [
       "<IPython.core.display.Image object>"
      ]
     },
     "metadata": {},
     "output_type": "display_data"
    },
    {
     "data": {
      "image/png": "[encoded data removed]",
      "text/plain": [
       "<IPython.core.display.Image object>"
      ]
     },
     "metadata": {},
     "output_type": "display_data"
    },
    {
     "data": {
      "image/png": "[encoded data removed]",
      "text/plain": [
       "<IPython.core.display.Image object>"
      ]
     },
     "metadata": {},
     "output_type": "display_data"
    },
    {
     "data": {
      "image/png": "[encoded data removed]",
      "text/plain": [
       "<IPython.core.display.Image object>"
      ]
     },
     "metadata": {},
     "output_type": "display_data"
    },
    {
     "data": {
      "image/png": "[encoded data removed]",
      "text/plain": [
       "<IPython.core.display.Image object>"
      ]
     },
     "metadata": {},
     "output_type": "display_data"
    },
    {
     "data": {
      "image/png": "[encoded data removed]",
      "text/plain": [
       "<IPython.core.display.Image object>"
      ]
     },
     "metadata": {},
     "output_type": "display_data"
    },
    {
     "data": {
      "image/png": "[encoded data removed]",
      "text/plain": [
       "<IPython.core.display.Image object>"
      ]
     },
     "metadata": {},
     "output_type": "display_data"
    },
    {
     "data": {
      "image/png": "[encoded data removed]",
      "text/plain": [
       "<IPython.core.display.Image object>"
      ]
     },
     "metadata": {},
     "output_type": "display_data"
    },
    {
     "data": {
      "image/png": "[encoded data removed]",
      "text/plain": [
       "<IPython.core.display.Image object>"
      ]
     },
     "metadata": {},
     "output_type": "display_data"
    },
    {
     "data": {
      "image/png": "[encoded data removed]",
      "text/plain": [
       "<IPython.core.display.Image object>"
      ]
     },
     "metadata": {},
     "output_type": "display_data"
    },
    {
     "data": {
      "image/png": "[encoded data removed]",
      "text/plain": [
       "<IPython.core.display.Image object>"
      ]
     },
     "metadata": {},
     "output_type": "display_data"
    },
    {
     "data": {
      "image/png": "[encoded data removed]",
      "text/plain": [
       "<IPython.core.display.Image object>"
      ]
     },
     "metadata": {},
     "output_type": "display_data"
    },
    {
     "data": {
      "image/png": "[encoded data removed]",
      "text/plain": [
       "<IPython.core.display.Image object>"
      ]
     },
     "metadata": {},
     "output_type": "display_data"
    },
    {
     "data": {
      "image/png": "[encoded data removed]",
      "text/plain": [
       "<IPython.core.display.Image object>"
      ]
     },
     "metadata": {},
     "output_type": "display_data"
    },
    {
     "data": {
      "image/png": "[encoded data removed]",
      "text/plain": [
       "<IPython.core.display.Image object>"
      ]
     },
     "metadata": {},
     "output_type": "display_data"
    },
    {
     "data": {
      "image/png": "[encoded data removed]",
      "text/plain": [
       "<IPython.core.display.Image object>"
      ]
     },
     "metadata": {},
     "output_type": "display_data"
    },
    {
     "data": {
      "image/png": "[encoded data removed]",
      "text/plain": [
       "<IPython.core.display.Image object>"
      ]
     },
     "metadata": {},
     "output_type": "display_data"
    },
    {
     "data": {
      "image/png": "[encoded data removed]",
      "text/plain": [
       "<IPython.core.display.Image object>"
      ]
     },
     "metadata": {},
     "output_type": "display_data"
    },
    {
     "data": {
      "image/png": "[encoded data removed]",
      "text/plain": [
       "<IPython.core.display.Image object>"
      ]
     },
     "metadata": {},
     "output_type": "display_data"
    },
    {
     "data": {
      "image/png": "[encoded data removed]",
      "text/plain": [
       "<IPython.core.display.Image object>"
      ]
     },
     "metadata": {},
     "output_type": "display_data"
    },
    {
     "data": {
      "image/png": "[encoded data removed]",
      "text/plain": [
       "<IPython.core.display.Image object>"
      ]
     },
     "metadata": {},
     "output_type": "display_data"
    },
    {
     "data": {
      "image/png": "[encoded data removed]",
      "text/plain": [
       "<IPython.core.display.Image object>"
      ]
     },
     "metadata": {},
     "output_type": "display_data"
    },
    {
     "data": {
      "image/png": "[encoded data removed]",
      "text/plain": [
       "<IPython.core.display.Image object>"
      ]
     },
     "metadata": {},
     "output_type": "display_data"
    },
    {
     "data": {
      "image/png": "[encoded data removed]",
      "text/plain": [
       "<IPython.core.display.Image object>"
      ]
     },
     "metadata": {},
     "output_type": "display_data"
    },
    {
     "data": {
      "image/png": "[encoded data removed]",
      "text/plain": [
       "<IPython.core.display.Image object>"
      ]
     },
     "metadata": {},
     "output_type": "display_data"
    },
    {
     "data": {
      "image/png": "[encoded data removed]",
      "text/plain": [
       "<IPython.core.display.Image object>"
      ]
     },
     "metadata": {},
     "output_type": "display_data"
    },
    {
     "data": {
      "image/png": "[encoded data removed]",
      "text/plain": [
       "<IPython.core.display.Image object>"
      ]
     },
     "metadata": {},
     "output_type": "display_data"
    },
    {
     "data": {
      "image/png": "[encoded data removed]",
      "text/plain": [
       "<IPython.core.display.Image object>"
      ]
     },
     "metadata": {},
     "output_type": "display_data"
    },
    {
     "data": {
      "image/png": "[encoded data removed]",
      "text/plain": [
       "<IPython.core.display.Image object>"
      ]
     },
     "metadata": {},
     "output_type": "display_data"
    },
    {
     "data": {
      "image/png": "[encoded data removed]",
      "text/plain": [
       "<IPython.core.display.Image object>"
      ]
     },
     "metadata": {},
     "output_type": "display_data"
    },
    {
     "data": {
      "image/png": "[encoded data removed]",
      "text/plain": [
       "<IPython.core.display.Image object>"
      ]
     },
     "metadata": {},
     "output_type": "display_data"
    },
    {
     "data": {
      "image/png": "[encoded data removed]",
      "text/plain": [
       "<IPython.core.display.Image object>"
      ]
     },
     "metadata": {},
     "output_type": "display_data"
    },
    {
     "data": {
      "image/png": "[encoded data removed]",
      "text/plain": [
       "<IPython.core.display.Image object>"
      ]
     },
     "metadata": {},
     "output_type": "display_data"
    }
   ],
   "source": [
    "print(len(errors))\n",
    "print(len(correct))\n",
    "for e in errors[20:40]:\n",
    "    display_image((x_test[e] * 255).reshape(IMG_ROWS, IMG_COLS))\n",
    "    display_image(data[0][predicted[e]])"
   ]
  },
  {
   "cell_type": "code",
   "execution_count": null,
   "metadata": {
    "collapsed": true
   },
   "outputs": [],
   "source": []
  }
 ],
 "metadata": {
  "kernelspec": {
   "display_name": "Python 3",
   "language": "python",
   "name": "python3"
  },
  "language_info": {
   "codemirror_mode": {
    "name": "ipython",
    "version": 3
   },
   "file_extension": ".py",
   "mimetype": "text/x-python",
   "name": "python",
   "nbconvert_exporter": "python",
   "pygments_lexer": "ipython3",
   "version": "3.5.2"
  }
 },
 "nbformat": 4,
 "nbformat_minor": 2
}
