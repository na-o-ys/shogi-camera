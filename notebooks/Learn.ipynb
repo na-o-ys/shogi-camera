{
 "cells": [
  {
   "cell_type": "code",
   "execution_count": 1,
   "metadata": {
    "scrolled": true
   },
   "outputs": [
    {
     "name": "stderr",
     "output_type": "stream",
     "text": [
      "Using TensorFlow backend.\n"
     ]
    },
    {
     "name": "stdout",
     "output_type": "stream",
     "text": [
      "../data/koma/01.npz\n",
      "../data/koma/02.npz\n",
      "../data/koma/03.npz\n",
      "../data/koma/04.npz\n",
      "../data/koma/05.npz\n",
      "../data/koma/06.npz\n",
      "../data/koma/07.npz\n",
      "../data/koma/08.npz\n",
      "../data/koma/09.npz\n",
      "../data/koma/10.npz\n",
      "../data/koma/11.npz\n",
      "../data/koma/12.npz\n",
      "../data/koma/13.npz\n",
      "../data/koma/14.npz\n",
      "../data/koma/15.npz\n",
      "../data/koma/16.npz\n",
      "../data/koma/17.npz\n",
      "../data/koma/18.npz\n",
      "../data/koma/19.npz\n",
      "../data/koma/20.npz\n",
      "../data/koma/21.npz\n",
      "../data/koma/22.npz\n",
      "../data/koma/23.npz\n",
      "../data/koma/24.npz\n",
      "../data/koma/25.npz\n",
      "../data/koma/26.npz\n",
      "../data/koma/27.npz\n"
     ]
    }
   ],
   "source": [
    "import numpy as np\n",
    "import scipy.misc\n",
    "import glob\n",
    "import keras\n",
    "from keras import backend as K\n",
    "from keras.layers import Conv2D, MaxPooling2D, Input\n",
    "from keras.layers import Dense, Dropout, Flatten\n",
    "from keras.layers.merge import Concatenate\n",
    "from keras.models import Sequential, Model\n",
    "from keras.preprocessing.image import ImageDataGenerator\n",
    "from sklearn.model_selection import train_test_split\n",
    "from io import BytesIO\n",
    "from IPython import display\n",
    "from PIL import Image\n",
    "\n",
    "def display_image(arr):\n",
    "    b = BytesIO()\n",
    "    Image.fromarray(np.uint8(arr)).save(b, format='png')\n",
    "    data = b.getvalue()\n",
    "    display.display(display.Image(data=data, format='png', embed=True))\n",
    "\n",
    "labels = ['gyoku', 'ou', 'kin', 'gin', 'kei', 'kyo', 'kaku', 'hi', 'fu', 'narigin', 'narikei', 'narikyo', 'uma', 'ryu', 'to']\n",
    "num_classes = len(labels) * 2 + 1\n",
    "\n",
    "# input image dimensions\n",
    "img_rows, img_cols = 64, 64\n",
    "input_shape = (img_rows, img_cols, 1)\n",
    "\n",
    "series_imgs = []\n",
    "series_labels = []\n",
    "for i, series in enumerate(sorted(glob.glob(\"../data/koma/*.npz\"))):\n",
    "    file = np.load(series)\n",
    "    print(series)\n",
    "    series_imgs.append(file['imgs'].astype(np.float32))\n",
    "    series_labels.append(file['labels'])\n",
    "num_series = len(series_imgs)"
   ]
  },
  {
   "cell_type": "code",
   "execution_count": 2,
   "metadata": {},
   "outputs": [
    {
     "name": "stdout",
     "output_type": "stream",
     "text": [
      "(760, 64, 64)\n",
      "(760, 2)\n"
     ]
    }
   ],
   "source": [
    "# load all\n",
    "x_all = np.empty((0, img_rows, img_cols))\n",
    "y_all = np.empty((0, 2), np.int32)\n",
    "for i in range(num_series):\n",
    "    num_imgs = len(series_imgs[i])\n",
    "    x_all = np.r_[x_all, series_imgs[i]]\n",
    "    label_indices = []\n",
    "    for j, label in enumerate(series_labels[i]):\n",
    "        label_indices.append(labels.index(label))\n",
    "    label_and_series = np.c_[label_indices, np.full((num_imgs), i)]\n",
    "    y_all = np.r_[y_all, label_and_series]\n",
    "\n",
    "# rot 180\n",
    "x_all = np.r_[x_all, np.rot90(x_all, 2, (1, 2))]\n",
    "y_rot = np.copy(y_all)\n",
    "y_rot[:, 0] += len(labels)\n",
    "y_all = np.r_[y_all, y_rot]\n",
    "\n",
    "# space\n",
    "space_imgs = np.load('../learn/space/space.npz')['imgs'].astype(np.float32)\n",
    "x_all = np.r_[x_all, space_imgs]\n",
    "y_space = np.full((len(space_imgs), 2), [len(labels) * 2, num_series])\n",
    "y_all = np.r_[y_all, y_space]\n",
    "\n",
    "print(x_all.shape)\n",
    "print(y_all.shape)\n",
    "\n",
    "# reshape to TF\n",
    "x_all = x_all.reshape(x_all.shape[0], img_rows, img_cols, 1)\n",
    "x_all = x_all.astype(np.float32)\n",
    "x_all /= 255"
   ]
  },
  {
   "cell_type": "code",
   "execution_count": 4,
   "metadata": {
    "collapsed": true
   },
   "outputs": [],
   "source": [
    "x_train, x_test, y_train, y_test = train_test_split(x_all, y_all, test_size=0.05)\n",
    "\n",
    "# train_ids = np.where(y_all[:, 1] != 20)\n",
    "# test_ids = np.where(y_all[:, 1] == 20)\n",
    "# x_train = x_all[train_ids]\n",
    "# x_test = x_all[test_ids]\n",
    "# y_train = y_all[train_ids]\n",
    "# y_test = y_all[test_ids]\n",
    "# print(test_ids)\n",
    "# display_image(np.uint8(x_test[0] * 255)[:, :, 0])\n",
    "\n",
    "# convert class vectors to binary class matrices\n",
    "y_train = keras.utils.to_categorical(y_train[:, 0], num_classes)\n",
    "y_test = keras.utils.to_categorical(y_test[:, 0], num_classes)"
   ]
  },
  {
   "cell_type": "code",
   "execution_count": 5,
   "metadata": {
    "scrolled": true
   },
   "outputs": [
    {
     "name": "stdout",
     "output_type": "stream",
     "text": [
      "_________________________________________________________________\n",
      "Layer (type)                 Output Shape              Param #   \n",
      "=================================================================\n",
      "conv2d_1 (Conv2D)            (None, 62, 62, 32)        320       \n",
      "_________________________________________________________________\n",
      "max_pooling2d_1 (MaxPooling2 (None, 31, 31, 32)        0         \n",
      "_________________________________________________________________\n",
      "dropout_1 (Dropout)          (None, 31, 31, 32)        0         \n",
      "_________________________________________________________________\n",
      "conv2d_2 (Conv2D)            (None, 29, 29, 64)        18496     \n",
      "_________________________________________________________________\n",
      "max_pooling2d_2 (MaxPooling2 (None, 14, 14, 64)        0         \n",
      "_________________________________________________________________\n",
      "dropout_2 (Dropout)          (None, 14, 14, 64)        0         \n",
      "_________________________________________________________________\n",
      "conv2d_3 (Conv2D)            (None, 12, 12, 128)       73856     \n",
      "_________________________________________________________________\n",
      "max_pooling2d_3 (MaxPooling2 (None, 6, 6, 128)         0         \n",
      "_________________________________________________________________\n",
      "dropout_3 (Dropout)          (None, 6, 6, 128)         0         \n",
      "_________________________________________________________________\n",
      "flatten_1 (Flatten)          (None, 4608)              0         \n",
      "_________________________________________________________________\n",
      "dense_1 (Dense)              (None, 256)               1179904   \n",
      "_________________________________________________________________\n",
      "dropout_4 (Dropout)          (None, 256)               0         \n",
      "_________________________________________________________________\n",
      "dense_2 (Dense)              (None, 256)               65792     \n",
      "_________________________________________________________________\n",
      "dropout_5 (Dropout)          (None, 256)               0         \n",
      "_________________________________________________________________\n",
      "dense_3 (Dense)              (None, 31)                7967      \n",
      "=================================================================\n",
      "Total params: 1,346,335\n",
      "Trainable params: 1,346,335\n",
      "Non-trainable params: 0\n",
      "_________________________________________________________________\n"
     ]
    }
   ],
   "source": [
    "datagen = ImageDataGenerator(rotation_range=15, zoom_range=0.25)\n",
    "datagen.fit(x_train)\n",
    "\n",
    "model = Sequential()\n",
    "model.add(Conv2D(32, kernel_size=(3, 3), activation='relu', input_shape=input_shape))\n",
    "model.add(MaxPooling2D(pool_size=(2, 2)))\n",
    "model.add(Dropout(0.2))\n",
    "\n",
    "model.add(Conv2D(64, kernel_size=(3, 3), activation='relu', input_shape=input_shape))\n",
    "model.add(MaxPooling2D(pool_size=(2, 2)))\n",
    "model.add(Dropout(0.3))\n",
    "\n",
    "model.add(Conv2D(128, kernel_size=(3, 3), activation='relu', input_shape=input_shape))\n",
    "model.add(MaxPooling2D(pool_size=(2, 2)))\n",
    "model.add(Dropout(0.4))\n",
    "\n",
    "model.add(Flatten())\n",
    "model.add(Dense(256, activation='relu'))\n",
    "model.add(Dropout(0.5))\n",
    "model.add(Dense(256, activation='relu'))\n",
    "model.add(Dropout(0.5))\n",
    "model.add(Dense(num_classes, activation='softmax'))\n",
    "\n",
    "model.summary()"
   ]
  },
  {
   "cell_type": "code",
   "execution_count": 6,
   "metadata": {
    "scrolled": true
   },
   "outputs": [
    {
     "name": "stdout",
     "output_type": "stream",
     "text": [
      "Epoch 1/80\n",
      "722/722 [==============================] - 12s - loss: 3.4137 - acc: 0.0367 - val_loss: 3.2081 - val_acc: 0.1316\n",
      "Epoch 2/80\n",
      "722/722 [==============================] - 10s - loss: 2.7905 - acc: 0.1454 - val_loss: 2.3009 - val_acc: 0.2368\n",
      "Epoch 3/80\n",
      "722/722 [==============================] - 10s - loss: 2.1942 - acc: 0.2745 - val_loss: 1.8328 - val_acc: 0.4211\n",
      "Epoch 4/80\n",
      "722/722 [==============================] - 10s - loss: 1.8364 - acc: 0.3715 - val_loss: 1.4315 - val_acc: 0.5789\n",
      "Epoch 5/80\n",
      "722/722 [==============================] - 10s - loss: 1.5310 - acc: 0.4745 - val_loss: 1.5181 - val_acc: 0.5789\n",
      "Epoch 6/80\n",
      "722/722 [==============================] - 10s - loss: 1.2807 - acc: 0.5492 - val_loss: 1.0455 - val_acc: 0.6053\n",
      "Epoch 7/80\n",
      "722/722 [==============================] - 10s - loss: 1.0845 - acc: 0.6184 - val_loss: 1.0110 - val_acc: 0.6053\n",
      "Epoch 8/80\n",
      "722/722 [==============================] - 10s - loss: 0.9034 - acc: 0.6813 - val_loss: 0.8776 - val_acc: 0.6579\n",
      "Epoch 9/80\n",
      "722/722 [==============================] - 10s - loss: 0.7880 - acc: 0.7196 - val_loss: 0.8537 - val_acc: 0.6842\n",
      "Epoch 10/80\n",
      "722/722 [==============================] - 10s - loss: 0.6903 - acc: 0.7525 - val_loss: 0.7707 - val_acc: 0.7105\n",
      "Epoch 11/80\n",
      "722/722 [==============================] - 10s - loss: 0.6127 - acc: 0.7794 - val_loss: 0.6713 - val_acc: 0.7105\n",
      "Epoch 12/80\n",
      "722/722 [==============================] - 10s - loss: 0.5556 - acc: 0.7982 - val_loss: 0.7441 - val_acc: 0.7105\n",
      "Epoch 13/80\n",
      "722/722 [==============================] - 10s - loss: 0.4840 - acc: 0.8263 - val_loss: 0.7451 - val_acc: 0.7368\n",
      "Epoch 14/80\n",
      "722/722 [==============================] - 10s - loss: 0.4563 - acc: 0.8373 - val_loss: 0.7488 - val_acc: 0.7105\n",
      "Epoch 15/80\n",
      "722/722 [==============================] - 10s - loss: 0.4087 - acc: 0.8468 - val_loss: 0.7775 - val_acc: 0.7368\n",
      "Epoch 16/80\n",
      "722/722 [==============================] - 10s - loss: 0.3906 - acc: 0.8547 - val_loss: 0.7144 - val_acc: 0.7632\n",
      "Epoch 17/80\n",
      "722/722 [==============================] - 10s - loss: 0.3615 - acc: 0.8680 - val_loss: 0.7146 - val_acc: 0.7368\n",
      "Epoch 18/80\n",
      "722/722 [==============================] - 10s - loss: 0.3323 - acc: 0.8801 - val_loss: 0.7592 - val_acc: 0.7368\n",
      "Epoch 19/80\n",
      "722/722 [==============================] - 10s - loss: 0.3287 - acc: 0.8850 - val_loss: 0.7124 - val_acc: 0.7632\n",
      "Epoch 20/80\n",
      "722/722 [==============================] - 10s - loss: 0.2867 - acc: 0.8953 - val_loss: 0.6493 - val_acc: 0.7632\n",
      "Epoch 21/80\n",
      "722/722 [==============================] - 10s - loss: 0.2854 - acc: 0.8993 - val_loss: 0.7811 - val_acc: 0.7632\n",
      "Epoch 22/80\n",
      "722/722 [==============================] - 10s - loss: 0.2598 - acc: 0.9052 - val_loss: 0.6462 - val_acc: 0.7632\n",
      "Epoch 23/80\n",
      "722/722 [==============================] - 10s - loss: 0.2523 - acc: 0.9072 - val_loss: 0.6441 - val_acc: 0.7895\n",
      "Epoch 24/80\n",
      "722/722 [==============================] - 10s - loss: 0.2312 - acc: 0.9187 - val_loss: 0.5554 - val_acc: 0.8158\n",
      "Epoch 25/80\n",
      "722/722 [==============================] - 10s - loss: 0.2338 - acc: 0.9219 - val_loss: 0.5886 - val_acc: 0.8421\n",
      "Epoch 26/80\n",
      "722/722 [==============================] - 10s - loss: 0.2214 - acc: 0.9266 - val_loss: 0.6649 - val_acc: 0.7895\n",
      "Epoch 27/80\n",
      "722/722 [==============================] - 10s - loss: 0.2079 - acc: 0.9258 - val_loss: 0.6159 - val_acc: 0.8158\n",
      "Epoch 28/80\n",
      "722/722 [==============================] - 10s - loss: 0.1968 - acc: 0.9317 - val_loss: 0.5634 - val_acc: 0.8158\n",
      "Epoch 29/80\n",
      "722/722 [==============================] - 10s - loss: 0.1937 - acc: 0.9371 - val_loss: 0.5822 - val_acc: 0.8421\n",
      "Epoch 30/80\n",
      "722/722 [==============================] - 10s - loss: 0.2074 - acc: 0.9292 - val_loss: 0.5156 - val_acc: 0.8421\n",
      "Epoch 31/80\n",
      "722/722 [==============================] - 10s - loss: 0.1885 - acc: 0.9386 - val_loss: 0.6156 - val_acc: 0.8158\n",
      "Epoch 32/80\n",
      "722/722 [==============================] - 10s - loss: 0.1768 - acc: 0.9407 - val_loss: 0.5264 - val_acc: 0.8421\n",
      "Epoch 33/80\n",
      "722/722 [==============================] - 10s - loss: 0.1713 - acc: 0.9443 - val_loss: 0.5200 - val_acc: 0.8158\n",
      "Epoch 34/80\n",
      "722/722 [==============================] - 10s - loss: 0.1700 - acc: 0.9432 - val_loss: 0.5993 - val_acc: 0.8421\n",
      "Epoch 35/80\n",
      "722/722 [==============================] - 10s - loss: 0.1612 - acc: 0.9456 - val_loss: 0.5267 - val_acc: 0.8158\n",
      "Epoch 36/80\n",
      "722/722 [==============================] - 10s - loss: 0.1513 - acc: 0.9510 - val_loss: 0.5298 - val_acc: 0.8421\n",
      "Epoch 37/80\n",
      "722/722 [==============================] - 10s - loss: 0.1565 - acc: 0.9496 - val_loss: 0.5455 - val_acc: 0.8421\n",
      "Epoch 38/80\n",
      "722/722 [==============================] - 10s - loss: 0.1459 - acc: 0.9534 - val_loss: 0.4869 - val_acc: 0.8684\n",
      "Epoch 39/80\n",
      "722/722 [==============================] - 10s - loss: 0.1432 - acc: 0.9540 - val_loss: 0.5208 - val_acc: 0.8684\n",
      "Epoch 40/80\n",
      "722/722 [==============================] - 10s - loss: 0.1358 - acc: 0.9558 - val_loss: 0.5364 - val_acc: 0.8421\n",
      "Epoch 41/80\n",
      "722/722 [==============================] - 10s - loss: 0.1431 - acc: 0.9534 - val_loss: 0.5587 - val_acc: 0.8421\n",
      "Epoch 42/80\n",
      "722/722 [==============================] - 10s - loss: 0.1363 - acc: 0.9550 - val_loss: 0.5734 - val_acc: 0.8421\n",
      "Epoch 43/80\n",
      "722/722 [==============================] - 10s - loss: 0.1349 - acc: 0.9569 - val_loss: 0.5281 - val_acc: 0.8421\n",
      "Epoch 44/80\n",
      "722/722 [==============================] - 10s - loss: 0.1283 - acc: 0.9600 - val_loss: 0.4967 - val_acc: 0.8421\n",
      "Epoch 45/80\n",
      "722/722 [==============================] - 10s - loss: 0.1295 - acc: 0.9572 - val_loss: 0.5608 - val_acc: 0.8684\n",
      "Epoch 46/80\n",
      "722/722 [==============================] - 10s - loss: 0.1317 - acc: 0.9565 - val_loss: 0.5007 - val_acc: 0.8947\n",
      "Epoch 47/80\n",
      "722/722 [==============================] - 10s - loss: 0.1306 - acc: 0.9594 - val_loss: 0.4285 - val_acc: 0.8947\n",
      "Epoch 48/80\n",
      "722/722 [==============================] - 10s - loss: 0.1291 - acc: 0.9619 - val_loss: 0.5611 - val_acc: 0.8421\n",
      "Epoch 49/80\n",
      "722/722 [==============================] - 10s - loss: 0.1269 - acc: 0.9590 - val_loss: 0.3912 - val_acc: 0.8947\n",
      "Epoch 50/80\n",
      "722/722 [==============================] - 10s - loss: 0.1313 - acc: 0.9598 - val_loss: 0.4277 - val_acc: 0.8684\n",
      "Epoch 51/80\n",
      "722/722 [==============================] - 10s - loss: 0.1233 - acc: 0.9610 - val_loss: 0.4884 - val_acc: 0.8947\n",
      "Epoch 52/80\n",
      "722/722 [==============================] - 10s - loss: 0.1216 - acc: 0.9630 - val_loss: 0.4594 - val_acc: 0.8684\n",
      "Epoch 53/80\n",
      "722/722 [==============================] - 10s - loss: 0.1185 - acc: 0.9635 - val_loss: 0.4171 - val_acc: 0.8947\n",
      "Epoch 54/80\n",
      "722/722 [==============================] - 10s - loss: 0.1219 - acc: 0.9613 - val_loss: 0.3912 - val_acc: 0.8947\n",
      "Epoch 55/80\n",
      "722/722 [==============================] - 10s - loss: 0.1223 - acc: 0.9623 - val_loss: 0.4152 - val_acc: 0.8684\n",
      "Epoch 56/80\n",
      "722/722 [==============================] - 10s - loss: 0.1293 - acc: 0.9592 - val_loss: 0.3840 - val_acc: 0.8947\n",
      "Epoch 57/80\n",
      "722/722 [==============================] - 10s - loss: 0.1192 - acc: 0.9630 - val_loss: 0.3830 - val_acc: 0.8947\n",
      "Epoch 58/80\n",
      "722/722 [==============================] - 10s - loss: 0.1101 - acc: 0.9656 - val_loss: 0.5646 - val_acc: 0.8421\n",
      "Epoch 59/80\n",
      "722/722 [==============================] - 10s - loss: 0.1231 - acc: 0.9633 - val_loss: 0.4475 - val_acc: 0.8684\n",
      "Epoch 60/80\n",
      "722/722 [==============================] - 10s - loss: 0.1254 - acc: 0.9631 - val_loss: 0.3646 - val_acc: 0.8684\n",
      "Epoch 61/80\n",
      "722/722 [==============================] - 10s - loss: 0.1271 - acc: 0.9605 - val_loss: 0.4975 - val_acc: 0.8684\n",
      "Epoch 62/80\n",
      "722/722 [==============================] - 10s - loss: 0.1194 - acc: 0.9654 - val_loss: 0.4843 - val_acc: 0.8684\n",
      "Epoch 63/80\n",
      "722/722 [==============================] - 10s - loss: 0.1197 - acc: 0.9657 - val_loss: 0.3735 - val_acc: 0.8947\n",
      "Epoch 64/80\n",
      "722/722 [==============================] - 10s - loss: 0.1212 - acc: 0.9651 - val_loss: 0.5201 - val_acc: 0.8684\n",
      "Epoch 65/80\n",
      "722/722 [==============================] - 10s - loss: 0.1129 - acc: 0.9661 - val_loss: 0.4702 - val_acc: 0.8421\n",
      "Epoch 66/80\n",
      "722/722 [==============================] - 10s - loss: 0.1212 - acc: 0.9641 - val_loss: 0.3151 - val_acc: 0.8421\n",
      "Epoch 67/80\n",
      "722/722 [==============================] - 10s - loss: 0.1267 - acc: 0.9636 - val_loss: 0.3659 - val_acc: 0.8684\n",
      "Epoch 68/80\n",
      "722/722 [==============================] - 10s - loss: 0.1092 - acc: 0.9655 - val_loss: 0.5439 - val_acc: 0.8421\n",
      "Epoch 69/80\n",
      "722/722 [==============================] - 10s - loss: 0.1206 - acc: 0.9629 - val_loss: 0.2749 - val_acc: 0.8947\n",
      "Epoch 70/80\n",
      "722/722 [==============================] - 10s - loss: 0.1225 - acc: 0.9650 - val_loss: 0.3803 - val_acc: 0.8947\n",
      "Epoch 71/80\n",
      "722/722 [==============================] - 10s - loss: 0.1179 - acc: 0.9662 - val_loss: 0.4362 - val_acc: 0.8947\n",
      "Epoch 72/80\n",
      "722/722 [==============================] - 10s - loss: 0.1168 - acc: 0.9657 - val_loss: 0.4263 - val_acc: 0.8684\n",
      "Epoch 73/80\n",
      "722/722 [==============================] - 10s - loss: 0.1250 - acc: 0.9636 - val_loss: 0.3945 - val_acc: 0.8684\n",
      "Epoch 74/80\n",
      "722/722 [==============================] - 10s - loss: 0.1283 - acc: 0.9655 - val_loss: 0.3728 - val_acc: 0.8684\n",
      "Epoch 75/80\n",
      "722/722 [==============================] - 10s - loss: 0.1318 - acc: 0.9659 - val_loss: 0.4303 - val_acc: 0.8684\n",
      "Epoch 76/80\n",
      "722/722 [==============================] - 10s - loss: 0.1259 - acc: 0.9651 - val_loss: 0.3474 - val_acc: 0.8684\n",
      "Epoch 77/80\n",
      "722/722 [==============================] - 10s - loss: 0.1261 - acc: 0.9630 - val_loss: 0.5118 - val_acc: 0.8684\n",
      "Epoch 78/80\n",
      "722/722 [==============================] - 10s - loss: 0.1252 - acc: 0.9655 - val_loss: 0.4758 - val_acc: 0.8684\n",
      "Epoch 79/80\n",
      "722/722 [==============================] - 10s - loss: 0.1238 - acc: 0.9633 - val_loss: 0.3358 - val_acc: 0.8947\n",
      "Epoch 80/80\n",
      "722/722 [==============================] - 10s - loss: 0.1321 - acc: 0.9629 - val_loss: 0.3712 - val_acc: 0.8684\n",
      "Test loss: 0.371219977344\n",
      "Test accuracy: 0.868421058906\n"
     ]
    }
   ],
   "source": [
    "model.compile(loss=keras.losses.categorical_crossentropy,\n",
    "              optimizer=keras.optimizers.Adadelta(),\n",
    "              metrics=['accuracy'])\n",
    "model.fit_generator(datagen.flow(x_train, y_train, batch_size=16), steps_per_epoch=x_train.shape[0],\n",
    "                    epochs=80, verbose=1, validation_data=(x_test, y_test))\n",
    "score = model.evaluate(x_test, y_test, verbose=0)\n",
    "print('Test loss:', score[0])\n",
    "print('Test accuracy:', score[1])"
   ]
  },
  {
   "cell_type": "code",
   "execution_count": 7,
   "metadata": {},
   "outputs": [
    {
     "name": "stdout",
     "output_type": "stream",
     "text": [
      "[29 25 29  5 27 20 15  3 13 26 23 12 25 12 30 16 18  2  7  7 20 25  5 30 25\n",
      " 22  7  1  7 27 11  1  6  6  0 29 17  9]\n",
      "[29 25 29 13 27 20 15  3 13 26 23 12 25  8 30 15 18  2  7  7 20 26  5 30 25\n",
      " 22  7  1  7 27 11  1  6  6  0 29 15  9]\n",
      "[ 3 13 15 21 36]\n"
     ]
    }
   ],
   "source": [
    "pred_res = model.predict(x_test)\n",
    "res = np.array([np.argmax(r) for r in pred_res])\n",
    "ans = np.array([np.where(y == 1)[0][0] for y in y_test])\n",
    "print(res)\n",
    "print(ans)\n",
    "correct = np.where(res == ans)[0]\n",
    "errors = np.where(res != ans)[0]\n",
    "print(errors)"
   ]
  },
  {
   "cell_type": "code",
   "execution_count": 8,
   "metadata": {
    "scrolled": false
   },
   "outputs": [
    {
     "data": {
      "image/png": "[encoded data removed]",
      "text/plain": [
       "<IPython.core.display.Image object>"
      ]
     },
     "metadata": {},
     "output_type": "display_data"
    },
    {
     "name": "stdout",
     "output_type": "stream",
     "text": [
      "kyo\n"
     ]
    },
    {
     "data": {
      "image/png": "[encoded data removed]",
      "text/plain": [
       "<IPython.core.display.Image object>"
      ]
     },
     "metadata": {},
     "output_type": "display_data"
    },
    {
     "name": "stdout",
     "output_type": "stream",
     "text": [
      "uma\n"
     ]
    },
    {
     "data": {
      "image/png": "[encoded data removed]",
      "text/plain": [
       "<IPython.core.display.Image object>"
      ]
     },
     "metadata": {},
     "output_type": "display_data"
    },
    {
     "name": "stdout",
     "output_type": "stream",
     "text": [
      "p\n",
      "ou\n"
     ]
    },
    {
     "data": {
      "image/png": "[encoded data removed]",
      "text/plain": [
       "<IPython.core.display.Image object>"
      ]
     },
     "metadata": {},
     "output_type": "display_data"
    },
    {
     "name": "stdout",
     "output_type": "stream",
     "text": [
      "p\n",
      "narikei\n"
     ]
    },
    {
     "data": {
      "image/png": "[encoded data removed]",
      "text/plain": [
       "<IPython.core.display.Image object>"
      ]
     },
     "metadata": {},
     "output_type": "display_data"
    },
    {
     "name": "stdout",
     "output_type": "stream",
     "text": [
      "p\n",
      "kin\n"
     ]
    }
   ],
   "source": [
    "for e in errors:\n",
    "    display_image(np.uint8(x_test[e] * 255)[:, :, 0])\n",
    "    if len(labels) > res[e]:\n",
    "        print(labels[res[e]])\n",
    "    else:\n",
    "        print(\"p\")\n",
    "        print(labels[res[e] - len(labels)])"
   ]
  },
  {
   "cell_type": "code",
   "execution_count": 9,
   "metadata": {
    "scrolled": true
   },
   "outputs": [
    {
     "data": {
      "image/png": "[encoded data removed]",
      "text/plain": [
       "<IPython.core.display.Image object>"
      ]
     },
     "metadata": {},
     "output_type": "display_data"
    },
    {
     "name": "stdout",
     "output_type": "stream",
     "text": [
      "*to\n"
     ]
    },
    {
     "data": {
      "image/png": "[encoded data removed]",
      "text/plain": [
       "<IPython.core.display.Image object>"
      ]
     },
     "metadata": {},
     "output_type": "display_data"
    },
    {
     "name": "stdout",
     "output_type": "stream",
     "text": [
      "*narikei\n"
     ]
    },
    {
     "data": {
      "image/png": "[encoded data removed]",
      "text/plain": [
       "<IPython.core.display.Image object>"
      ]
     },
     "metadata": {},
     "output_type": "display_data"
    },
    {
     "name": "stdout",
     "output_type": "stream",
     "text": [
      "*to\n"
     ]
    },
    {
     "data": {
      "image/png": "[encoded data removed]",
      "text/plain": [
       "<IPython.core.display.Image object>"
      ]
     },
     "metadata": {},
     "output_type": "display_data"
    },
    {
     "name": "stdout",
     "output_type": "stream",
     "text": [
      "*uma\n"
     ]
    },
    {
     "data": {
      "image/png": "[encoded data removed]",
      "text/plain": [
       "<IPython.core.display.Image object>"
      ]
     },
     "metadata": {},
     "output_type": "display_data"
    },
    {
     "name": "stdout",
     "output_type": "stream",
     "text": [
      "*kyo\n"
     ]
    },
    {
     "data": {
      "image/png": "[encoded data removed]",
      "text/plain": [
       "<IPython.core.display.Image object>"
      ]
     },
     "metadata": {},
     "output_type": "display_data"
    },
    {
     "name": "stdout",
     "output_type": "stream",
     "text": [
      "*gyoku\n"
     ]
    },
    {
     "data": {
      "image/png": "[encoded data removed]",
      "text/plain": [
       "<IPython.core.display.Image object>"
      ]
     },
     "metadata": {},
     "output_type": "display_data"
    },
    {
     "name": "stdout",
     "output_type": "stream",
     "text": [
      "gin\n"
     ]
    },
    {
     "data": {
      "image/png": "[encoded data removed]",
      "text/plain": [
       "<IPython.core.display.Image object>"
      ]
     },
     "metadata": {},
     "output_type": "display_data"
    },
    {
     "name": "stdout",
     "output_type": "stream",
     "text": [
      "ryu\n"
     ]
    },
    {
     "data": {
      "image/png": "[encoded data removed]",
      "text/plain": [
       "<IPython.core.display.Image object>"
      ]
     },
     "metadata": {},
     "output_type": "display_data"
    },
    {
     "name": "stdout",
     "output_type": "stream",
     "text": [
      "*narikyo\n"
     ]
    },
    {
     "data": {
      "image/png": "[encoded data removed]",
      "text/plain": [
       "<IPython.core.display.Image object>"
      ]
     },
     "metadata": {},
     "output_type": "display_data"
    },
    {
     "name": "stdout",
     "output_type": "stream",
     "text": [
      "*fu\n"
     ]
    },
    {
     "data": {
      "image/png": "[encoded data removed]",
      "text/plain": [
       "<IPython.core.display.Image object>"
      ]
     },
     "metadata": {},
     "output_type": "display_data"
    },
    {
     "name": "stdout",
     "output_type": "stream",
     "text": [
      "uma\n"
     ]
    },
    {
     "data": {
      "image/png": "[encoded data removed]",
      "text/plain": [
       "<IPython.core.display.Image object>"
      ]
     },
     "metadata": {},
     "output_type": "display_data"
    },
    {
     "name": "stdout",
     "output_type": "stream",
     "text": [
      "*narikei\n"
     ]
    },
    {
     "data": {
      "image/png": "[encoded data removed]",
      "text/plain": [
       "<IPython.core.display.Image object>"
      ]
     },
     "metadata": {},
     "output_type": "display_data"
    },
    {
     "name": "stdout",
     "output_type": "stream",
     "text": [
      "　\n"
     ]
    },
    {
     "data": {
      "image/png": "[encoded data removed]",
      "text/plain": [
       "<IPython.core.display.Image object>"
      ]
     },
     "metadata": {},
     "output_type": "display_data"
    },
    {
     "name": "stdout",
     "output_type": "stream",
     "text": [
      "*gin\n"
     ]
    },
    {
     "data": {
      "image/png": "[encoded data removed]",
      "text/plain": [
       "<IPython.core.display.Image object>"
      ]
     },
     "metadata": {},
     "output_type": "display_data"
    },
    {
     "name": "stdout",
     "output_type": "stream",
     "text": [
      "kin\n"
     ]
    },
    {
     "data": {
      "image/png": "[encoded data removed]",
      "text/plain": [
       "<IPython.core.display.Image object>"
      ]
     },
     "metadata": {},
     "output_type": "display_data"
    },
    {
     "name": "stdout",
     "output_type": "stream",
     "text": [
      "hi\n"
     ]
    },
    {
     "data": {
      "image/png": "[encoded data removed]",
      "text/plain": [
       "<IPython.core.display.Image object>"
      ]
     },
     "metadata": {},
     "output_type": "display_data"
    },
    {
     "name": "stdout",
     "output_type": "stream",
     "text": [
      "hi\n"
     ]
    },
    {
     "data": {
      "image/png": "[encoded data removed]",
      "text/plain": [
       "<IPython.core.display.Image object>"
      ]
     },
     "metadata": {},
     "output_type": "display_data"
    },
    {
     "name": "stdout",
     "output_type": "stream",
     "text": [
      "*kyo\n"
     ]
    },
    {
     "data": {
      "image/png": "[encoded data removed]",
      "text/plain": [
       "<IPython.core.display.Image object>"
      ]
     },
     "metadata": {},
     "output_type": "display_data"
    },
    {
     "name": "stdout",
     "output_type": "stream",
     "text": [
      "kyo\n"
     ]
    },
    {
     "data": {
      "image/png": "[encoded data removed]",
      "text/plain": [
       "<IPython.core.display.Image object>"
      ]
     },
     "metadata": {},
     "output_type": "display_data"
    },
    {
     "name": "stdout",
     "output_type": "stream",
     "text": [
      "　\n"
     ]
    },
    {
     "data": {
      "image/png": "[encoded data removed]",
      "text/plain": [
       "<IPython.core.display.Image object>"
      ]
     },
     "metadata": {},
     "output_type": "display_data"
    },
    {
     "name": "stdout",
     "output_type": "stream",
     "text": [
      "*narikei\n"
     ]
    },
    {
     "data": {
      "image/png": "[encoded data removed]",
      "text/plain": [
       "<IPython.core.display.Image object>"
      ]
     },
     "metadata": {},
     "output_type": "display_data"
    },
    {
     "name": "stdout",
     "output_type": "stream",
     "text": [
      "*hi\n"
     ]
    },
    {
     "data": {
      "image/png": "[encoded data removed]",
      "text/plain": [
       "<IPython.core.display.Image object>"
      ]
     },
     "metadata": {},
     "output_type": "display_data"
    },
    {
     "name": "stdout",
     "output_type": "stream",
     "text": [
      "hi\n"
     ]
    },
    {
     "data": {
      "image/png": "[encoded data removed]",
      "text/plain": [
       "<IPython.core.display.Image object>"
      ]
     },
     "metadata": {},
     "output_type": "display_data"
    },
    {
     "name": "stdout",
     "output_type": "stream",
     "text": [
      "ou\n"
     ]
    },
    {
     "data": {
      "image/png": "[encoded data removed]",
      "text/plain": [
       "<IPython.core.display.Image object>"
      ]
     },
     "metadata": {},
     "output_type": "display_data"
    },
    {
     "name": "stdout",
     "output_type": "stream",
     "text": [
      "hi\n"
     ]
    },
    {
     "data": {
      "image/png": "[encoded data removed]",
      "text/plain": [
       "<IPython.core.display.Image object>"
      ]
     },
     "metadata": {},
     "output_type": "display_data"
    },
    {
     "name": "stdout",
     "output_type": "stream",
     "text": [
      "*uma\n"
     ]
    },
    {
     "data": {
      "image/png": "[encoded data removed]",
      "text/plain": [
       "<IPython.core.display.Image object>"
      ]
     },
     "metadata": {},
     "output_type": "display_data"
    },
    {
     "name": "stdout",
     "output_type": "stream",
     "text": [
      "narikyo\n"
     ]
    },
    {
     "data": {
      "image/png": "[encoded data removed]",
      "text/plain": [
       "<IPython.core.display.Image object>"
      ]
     },
     "metadata": {},
     "output_type": "display_data"
    },
    {
     "name": "stdout",
     "output_type": "stream",
     "text": [
      "ou\n"
     ]
    },
    {
     "data": {
      "image/png": "[encoded data removed]",
      "text/plain": [
       "<IPython.core.display.Image object>"
      ]
     },
     "metadata": {},
     "output_type": "display_data"
    },
    {
     "name": "stdout",
     "output_type": "stream",
     "text": [
      "kaku\n"
     ]
    },
    {
     "data": {
      "image/png": "[encoded data removed]",
      "text/plain": [
       "<IPython.core.display.Image object>"
      ]
     },
     "metadata": {},
     "output_type": "display_data"
    },
    {
     "name": "stdout",
     "output_type": "stream",
     "text": [
      "kaku\n"
     ]
    },
    {
     "data": {
      "image/png": "[encoded data removed]",
      "text/plain": [
       "<IPython.core.display.Image object>"
      ]
     },
     "metadata": {},
     "output_type": "display_data"
    },
    {
     "name": "stdout",
     "output_type": "stream",
     "text": [
      "gyoku\n"
     ]
    },
    {
     "data": {
      "image/png": "[encoded data removed]",
      "text/plain": [
       "<IPython.core.display.Image object>"
      ]
     },
     "metadata": {},
     "output_type": "display_data"
    },
    {
     "name": "stdout",
     "output_type": "stream",
     "text": [
      "*to\n"
     ]
    },
    {
     "data": {
      "image/png": "[encoded data removed]",
      "text/plain": [
       "<IPython.core.display.Image object>"
      ]
     },
     "metadata": {},
     "output_type": "display_data"
    },
    {
     "name": "stdout",
     "output_type": "stream",
     "text": [
      "narigin\n"
     ]
    }
   ],
   "source": [
    "for e in correct:\n",
    "    display_image(np.uint8(x_test[e] * 255)[:, :, 0])\n",
    "    if len(labels) > res[e]:\n",
    "        print(labels[res[e]])\n",
    "    elif len(labels) * 2 > res[e]:\n",
    "        print(\"*\" + labels[res[e] - len(labels)])\n",
    "    else:\n",
    "        print(\"　\")"
   ]
  },
  {
   "cell_type": "code",
   "execution_count": 27,
   "metadata": {
    "collapsed": true
   },
   "outputs": [],
   "source": []
  }
 ],
 "metadata": {
  "kernelspec": {
   "display_name": "Python 3",
   "language": "python",
   "name": "python3"
  },
  "language_info": {
   "codemirror_mode": {
    "name": "ipython",
    "version": 3
   },
   "file_extension": ".py",
   "mimetype": "text/x-python",
   "name": "python",
   "nbconvert_exporter": "python",
   "pygments_lexer": "ipython3",
   "version": "3.5.2"
  }
 },
 "nbformat": 4,
 "nbformat_minor": 2
}
