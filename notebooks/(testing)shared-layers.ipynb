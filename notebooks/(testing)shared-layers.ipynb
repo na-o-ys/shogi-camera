{
 "cells": [
  {
   "cell_type": "code",
   "execution_count": 43,
   "metadata": {
    "scrolled": true
   },
   "outputs": [
    {
     "name": "stdout",
     "output_type": "stream",
     "text": [
      "learn/21.npz\n",
      "learn/17.npz\n",
      "learn/08.npz\n",
      "learn/09.npz\n",
      "learn/24.npz\n",
      "learn/18.npz\n",
      "learn/06.npz\n",
      "learn/12.npz\n",
      "learn/05.npz\n",
      "learn/16.npz\n",
      "learn/23.npz\n",
      "learn/10.npz\n",
      "learn/01.npz\n",
      "learn/03.npz\n",
      "learn/04.npz\n",
      "learn/14.npz\n",
      "learn/22.npz\n",
      "learn/15.npz\n",
      "learn/20.npz\n",
      "learn/13.npz\n",
      "learn/26.npz\n",
      "learn/25.npz\n",
      "learn/19.npz\n",
      "learn/07.npz\n",
      "learn/11.npz\n",
      "learn/02.npz\n",
      "learn/00.npz\n"
     ]
    }
   ],
   "source": [
    "import numpy as np\n",
    "import scipy.misc\n",
    "import glob\n",
    "import keras\n",
    "from keras import backend as K\n",
    "from keras.layers import Conv2D, MaxPooling2D, Input\n",
    "from keras.layers import Dense, Dropout, Flatten\n",
    "from keras.layers.merge import Concatenate\n",
    "from keras.models import Sequential, Model\n",
    "from keras.preprocessing.image import ImageDataGenerator\n",
    "from sklearn.model_selection import train_test_split\n",
    "from io import BytesIO\n",
    "from IPython import display\n",
    "from PIL import Image\n",
    "\n",
    "def display_image(arr):\n",
    "    b = BytesIO()\n",
    "    Image.fromarray(np.uint8(arr)).save(b, format='png')\n",
    "    data = b.getvalue()\n",
    "    display.display(display.Image(data=data, format='png', embed=True))\n",
    "\n",
    "labels = ['gyoku', 'ou', 'kin', 'gin', 'kei', 'kyo', 'kaku', 'hi', 'fu', 'narigin', 'narikei', 'narikyo', 'uma', 'ryu', 'to']\n",
    "num_classes = len(labels)\n",
    "\n",
    "# input image dimensions\n",
    "img_rows, img_cols = 48, 48\n",
    "input_shape = (img_rows, img_cols, 1)\n",
    "\n",
    "series_imgs = []\n",
    "series_labels = []\n",
    "for i, series in enumerate(glob.glob(\"learn/*.npz\")):\n",
    "    file = np.load(series)\n",
    "    print(series)\n",
    "    series_imgs.append(file['imgs'].astype(np.float32))\n",
    "    series_labels.append(file['labels'])\n",
    "num_series = len(series_imgs)"
   ]
  },
  {
   "cell_type": "code",
   "execution_count": 44,
   "metadata": {
    "collapsed": true,
    "scrolled": false
   },
   "outputs": [],
   "source": [
    "# load all\n",
    "x_all = np.empty((0, img_rows, img_cols))\n",
    "y_all = np.empty((0, 2), np.int32)\n",
    "for i in range(num_series):\n",
    "    num_imgs = len(series_imgs[i])\n",
    "    x_all = np.r_[x_all, series_imgs[i]]\n",
    "    label_indices = []\n",
    "    for j, label in enumerate(series_labels[i]):\n",
    "        label_indices.append(labels.index(label))\n",
    "    label_and_series = np.c_[label_indices, np.full((num_imgs), i)]\n",
    "    y_all = np.r_[y_all, label_and_series]\n",
    "\n",
    "# reshape to TF\n",
    "x_all = x_all.reshape(x_all.shape[0], img_rows, img_cols, 1)\n",
    "x_all = x_all.astype(np.float32)\n",
    "x_all /= 255\n",
    "\n",
    "# series list\n",
    "x_all_series = []\n",
    "for i in range(num_series):\n",
    "    x_all_series.append(x_all[np.where(y_all[:, 1] == i)])\n",
    "\n",
    "train_ids = np.where(y_all[:, 1] != 26)\n",
    "test_ids = np.where(y_all[:, 1] == 26)\n",
    "x_train = x_all[train_ids]\n",
    "x_test = x_all[test_ids]\n",
    "y_series_train = y_all[train_ids]\n",
    "y_series_test = y_all[test_ids]\n",
    "# print(test_ids)\n",
    "# x_train, x_test, y_series_train, y_series_test = train_test_split(x_all, y_all, test_size=0.1)\n",
    "\n",
    "gen_series = []\n",
    "for i in range(num_series):\n",
    "    g = ImageDataGenerator(rotation_range=15, zoom_range=0.25)\n",
    "    gen_series.append(g.flow(x_all_series[i], np.zeros((x_all_series[i].shape[0], 1)), batch_size=num_hint))\n",
    "def generate_hint(series):\n",
    "    hint_imgs, dummy = gen_series[series].next()\n",
    "    if hint_imgs.shape[0] < num_hint:\n",
    "        zero = np.zeros((num_hint - hint_imgs.shape[0], img_rows, img_cols, 1), np.float32)\n",
    "        hint_imgs = np.r_[hint_imgs, zero]\n",
    "        np.random.shuffle(hint_imgs)\n",
    "    return hint_imgs\n",
    "\n",
    "def data_generator_with_hint(x_batch, y_batch, x_all_series, batch_size=16):\n",
    "    datagen = ImageDataGenerator(rotation_range=15, zoom_range=0.25)\n",
    "    for x, y in datagen.flow(x_batch, y_batch, batch_size=batch_size):\n",
    "        labels = keras.utils.to_categorical(y[:, 0], num_classes)\n",
    "        series_ids = y[:, 1]\n",
    "        x_with_hint = []\n",
    "        for i, series_id in enumerate(series_ids):\n",
    "            hint_imgs = generate_hint(series_id)\n",
    "            x_with_hint.append(np.r_[[x[i]], hint_imgs])\n",
    "        yield_list = list(np.array(x_with_hint).swapaxes(1, 0))\n",
    "        yield (yield_list, labels)\n",
    "\n",
    "x_test_with_hint = []\n",
    "for i, series_id in enumerate(y_series_test[:, 1]):\n",
    "    hint_imgs = generate_hint(series_id)\n",
    "    x_test_with_hint.append(np.r_[[x_test[i]], hint_imgs])\n",
    "x_test_with_hint = list(np.array(x_test_with_hint).swapaxes(1, 0))\n",
    "y_test = keras.utils.to_categorical(y_series_test[:, 0], num_classes)"
   ]
  },
  {
   "cell_type": "code",
   "execution_count": 48,
   "metadata": {
    "scrolled": true
   },
   "outputs": [
    {
     "name": "stdout",
     "output_type": "stream",
     "text": [
      "____________________________________________________________________________________________________\n",
      "Layer (type)                     Output Shape          Param #     Connected to                     \n",
      "====================================================================================================\n",
      "input_37 (InputLayer)            (None, 48, 48, 1)     0                                            \n",
      "____________________________________________________________________________________________________\n",
      "input_38 (InputLayer)            (None, 48, 48, 1)     0                                            \n",
      "____________________________________________________________________________________________________\n",
      "input_39 (InputLayer)            (None, 48, 48, 1)     0                                            \n",
      "____________________________________________________________________________________________________\n",
      "input_40 (InputLayer)            (None, 48, 48, 1)     0                                            \n",
      "____________________________________________________________________________________________________\n",
      "input_41 (InputLayer)            (None, 48, 48, 1)     0                                            \n",
      "____________________________________________________________________________________________________\n",
      "input_42 (InputLayer)            (None, 48, 48, 1)     0                                            \n",
      "____________________________________________________________________________________________________\n",
      "model_11 (Model)                 (None, 5184)          64992       input_37[0][0]                   \n",
      "                                                                   input_38[0][0]                   \n",
      "                                                                   input_39[0][0]                   \n",
      "                                                                   input_40[0][0]                   \n",
      "                                                                   input_41[0][0]                   \n",
      "                                                                   input_42[0][0]                   \n",
      "____________________________________________________________________________________________________\n",
      "dense_36 (Dense)                 (None, 256)           1327360     model_11[1][0]                   \n",
      "____________________________________________________________________________________________________\n",
      "dense_37 (Dense)                 (None, 8)             41480       model_11[2][0]                   \n",
      "____________________________________________________________________________________________________\n",
      "dense_38 (Dense)                 (None, 8)             41480       model_11[3][0]                   \n",
      "____________________________________________________________________________________________________\n",
      "dense_39 (Dense)                 (None, 8)             41480       model_11[4][0]                   \n",
      "____________________________________________________________________________________________________\n",
      "dense_40 (Dense)                 (None, 8)             41480       model_11[5][0]                   \n",
      "____________________________________________________________________________________________________\n",
      "dense_41 (Dense)                 (None, 8)             41480       model_11[6][0]                   \n",
      "____________________________________________________________________________________________________\n",
      "dropout_33 (Dropout)             (None, 256)           0           dense_36[0][0]                   \n",
      "____________________________________________________________________________________________________\n",
      "dropout_34 (Dropout)             (None, 8)             0           dense_37[0][0]                   \n",
      "____________________________________________________________________________________________________\n",
      "dropout_35 (Dropout)             (None, 8)             0           dense_38[0][0]                   \n",
      "____________________________________________________________________________________________________\n",
      "dropout_36 (Dropout)             (None, 8)             0           dense_39[0][0]                   \n",
      "____________________________________________________________________________________________________\n",
      "dropout_37 (Dropout)             (None, 8)             0           dense_40[0][0]                   \n",
      "____________________________________________________________________________________________________\n",
      "dropout_38 (Dropout)             (None, 8)             0           dense_41[0][0]                   \n",
      "____________________________________________________________________________________________________\n",
      "concatenate_6 (Concatenate)      (None, 296)           0           dropout_33[0][0]                 \n",
      "                                                                   dropout_34[0][0]                 \n",
      "                                                                   dropout_35[0][0]                 \n",
      "                                                                   dropout_36[0][0]                 \n",
      "                                                                   dropout_37[0][0]                 \n",
      "                                                                   dropout_38[0][0]                 \n",
      "____________________________________________________________________________________________________\n",
      "dense_42 (Dense)                 (None, 15)            4455        concatenate_6[0][0]              \n",
      "====================================================================================================\n",
      "Total params: 1,604,207\n",
      "Trainable params: 1,604,207\n",
      "Non-trainable params: 0\n",
      "____________________________________________________________________________________________________\n"
     ]
    }
   ],
   "source": [
    "# conv module\n",
    "conv_in = Input(shape=input_shape)\n",
    "## first layer\n",
    "x = Conv2D(32, kernel_size=(3, 3), activation='relu', input_shape=input_shape)(conv_in)\n",
    "x = Conv2D(32, kernel_size=(3, 3), activation='relu', input_shape=input_shape)(x)\n",
    "x = MaxPooling2D(pool_size=(2, 2))(x)\n",
    "x = Dropout(0.5)(x)\n",
    "## second layer\n",
    "x = Conv2D(64, kernel_size=(3, 3), activation='relu', input_shape=input_shape)(x)\n",
    "x = Conv2D(64, kernel_size=(3, 3), activation='relu', input_shape=input_shape)(x)\n",
    "x = MaxPooling2D(pool_size=(2, 2))(x)\n",
    "x = Dropout(0.5)(x)\n",
    "conv_out = Flatten()(x)\n",
    "\n",
    "conv_model = Model(conv_in, conv_out)\n",
    "\n",
    "# main network\n",
    "main_input = Input(shape=input_shape)\n",
    "x = conv_model(main_input)\n",
    "x = Dense(256, activation='relu')(x)\n",
    "main_output = Dropout(0.5)(x)\n",
    "\n",
    "inputs = [main_input]\n",
    "outputs = [main_output]\n",
    "\n",
    "# hint network\n",
    "num_hint = 5\n",
    "for i in range(num_hint):\n",
    "    hint_input = Input(shape=input_shape)\n",
    "    x = conv_model(hint_input)\n",
    "    x = Dense(8, activation='relu')(x)\n",
    "    hint_output = Dropout(0.2)(x)\n",
    "    inputs.append(hint_input)\n",
    "    outputs.append(hint_output)\n",
    "\n",
    "concatenated_neuron = Concatenate()(outputs)\n",
    "out = Dense(num_classes, activation='softmax')(concatenated_neuron)\n",
    "model = Model(inputs, out)\n",
    "model.summary()"
   ]
  },
  {
   "cell_type": "code",
   "execution_count": 49,
   "metadata": {
    "scrolled": false
   },
   "outputs": [
    {
     "name": "stdout",
     "output_type": "stream",
     "text": [
      "Epoch 1/30\n",
      "356/356 [==============================] - 22s - loss: 2.6158 - acc: 0.1031 - val_loss: 2.0732 - val_acc: 0.2000\n",
      "Epoch 2/30\n",
      "356/356 [==============================] - 21s - loss: 1.6805 - acc: 0.4303 - val_loss: 1.6369 - val_acc: 0.3333\n",
      "Epoch 3/30\n",
      "356/356 [==============================] - 21s - loss: 1.0379 - acc: 0.6427 - val_loss: 1.0940 - val_acc: 0.7333\n",
      "Epoch 4/30\n",
      "356/356 [==============================] - 21s - loss: 0.7616 - acc: 0.7312 - val_loss: 0.8205 - val_acc: 0.8000\n",
      "Epoch 5/30\n",
      "356/356 [==============================] - 21s - loss: 0.6031 - acc: 0.7841 - val_loss: 0.6617 - val_acc: 0.8667\n",
      "Epoch 6/30\n",
      "356/356 [==============================] - 21s - loss: 0.4935 - acc: 0.8276 - val_loss: 0.4966 - val_acc: 0.8000\n",
      "Epoch 7/30\n",
      "356/356 [==============================] - 21s - loss: 0.4241 - acc: 0.8494 - val_loss: 0.4137 - val_acc: 0.8667\n",
      "Epoch 8/30\n",
      "356/356 [==============================] - 21s - loss: 0.3595 - acc: 0.8738 - val_loss: 0.5082 - val_acc: 0.8667\n",
      "Epoch 9/30\n",
      "356/356 [==============================] - 21s - loss: 0.3133 - acc: 0.8883 - val_loss: 0.4776 - val_acc: 0.9333\n",
      "Epoch 10/30\n",
      "356/356 [==============================] - 21s - loss: 0.2902 - acc: 0.8966 - val_loss: 0.4325 - val_acc: 0.8667\n",
      "Epoch 11/30\n",
      "356/356 [==============================] - 21s - loss: 0.2594 - acc: 0.9061 - val_loss: 0.5810 - val_acc: 0.9333\n",
      "Epoch 12/30\n",
      "356/356 [==============================] - 21s - loss: 0.2490 - acc: 0.9091 - val_loss: 0.4414 - val_acc: 0.9333\n",
      "Epoch 13/30\n",
      "356/356 [==============================] - 21s - loss: 0.2195 - acc: 0.9199 - val_loss: 0.4227 - val_acc: 0.9333\n",
      "Epoch 14/30\n",
      "356/356 [==============================] - 21s - loss: 0.1993 - acc: 0.9312 - val_loss: 0.4904 - val_acc: 0.9333\n",
      "Epoch 15/30\n",
      "356/356 [==============================] - 21s - loss: 0.1829 - acc: 0.9361 - val_loss: 0.5181 - val_acc: 0.9333\n",
      "Epoch 16/30\n",
      "356/356 [==============================] - 21s - loss: 0.1757 - acc: 0.9393 - val_loss: 0.4124 - val_acc: 0.9333\n",
      "Epoch 17/30\n",
      "356/356 [==============================] - 21s - loss: 0.1591 - acc: 0.9475 - val_loss: 0.4775 - val_acc: 0.9333\n",
      "Epoch 18/30\n",
      "356/356 [==============================] - 21s - loss: 0.1591 - acc: 0.9486 - val_loss: 0.3552 - val_acc: 0.9333\n",
      "Epoch 19/30\n",
      "356/356 [==============================] - 21s - loss: 0.1302 - acc: 0.9547 - val_loss: 0.4425 - val_acc: 0.9333\n",
      "Epoch 20/30\n",
      "356/356 [==============================] - 21s - loss: 0.1250 - acc: 0.9559 - val_loss: 0.5062 - val_acc: 0.9333\n",
      "Epoch 21/30\n",
      "356/356 [==============================] - 21s - loss: 0.1408 - acc: 0.9524 - val_loss: 0.2612 - val_acc: 0.9333\n",
      "Epoch 22/30\n",
      "356/356 [==============================] - 21s - loss: 0.1258 - acc: 0.9575 - val_loss: 0.5651 - val_acc: 0.8667\n",
      "Epoch 23/30\n",
      "356/356 [==============================] - 21s - loss: 0.1134 - acc: 0.9596 - val_loss: 0.5037 - val_acc: 0.9333\n",
      "Epoch 24/30\n",
      "356/356 [==============================] - 21s - loss: 0.1043 - acc: 0.9637 - val_loss: 0.5760 - val_acc: 0.8667\n",
      "Epoch 25/30\n",
      "356/356 [==============================] - 21s - loss: 0.1042 - acc: 0.9673 - val_loss: 0.4397 - val_acc: 0.9333\n",
      "Epoch 26/30\n",
      "356/356 [==============================] - 21s - loss: 0.1110 - acc: 0.9610 - val_loss: 0.4996 - val_acc: 0.8667\n",
      "Epoch 27/30\n",
      "356/356 [==============================] - 34s - loss: 0.0939 - acc: 0.9654 - val_loss: 0.4259 - val_acc: 0.8667\n",
      "Epoch 28/30\n",
      "356/356 [==============================] - 38s - loss: 0.1016 - acc: 0.9661 - val_loss: 0.5088 - val_acc: 0.8667\n",
      "Epoch 29/30\n",
      "356/356 [==============================] - 38s - loss: 0.0875 - acc: 0.9703 - val_loss: 0.5440 - val_acc: 0.8667\n",
      "Epoch 30/30\n",
      "356/356 [==============================] - 38s - loss: 0.0776 - acc: 0.9723 - val_loss: 0.5401 - val_acc: 0.8667\n",
      "Test loss: 0.540051341057\n",
      "Test accuracy: 0.866666734219\n"
     ]
    }
   ],
   "source": [
    "model.compile(loss=keras.losses.categorical_crossentropy,\n",
    "              optimizer=keras.optimizers.Adadelta(),\n",
    "              metrics=['accuracy'])\n",
    "model.fit_generator(data_generator_with_hint(x_train, y_series_train, x_all_series, batch_size=16), steps_per_epoch=x_train.shape[0],\n",
    "#                     epochs=20, verbose=1)\n",
    "                    epochs=30, verbose=1, validation_data=(x_test_with_hint, y_test))\n",
    "score = model.evaluate(x_test_with_hint, y_test, verbose=0)\n",
    "print('Test loss:', score[0])\n",
    "print('Test accuracy:', score[1])"
   ]
  },
  {
   "cell_type": "code",
   "execution_count": 50,
   "metadata": {},
   "outputs": [
    {
     "name": "stdout",
     "output_type": "stream",
     "text": [
      "[ 0  1  2  3  4  5  6  7  8  9 10 11  4  7 14]\n",
      "[ 0  1  2  3  4  5  6  7  8  9 10 11 12 13 14]\n",
      "[12 13]\n"
     ]
    }
   ],
   "source": [
    "pred_res = model.predict(x_test_with_hint)\n",
    "res = np.array([np.argmax(r) for r in pred_res])\n",
    "ans = np.array([np.where(y == 1)[0][0] for y in y_test])\n",
    "print(res)\n",
    "print(ans)\n",
    "correct = np.where(res == ans)[0]\n",
    "errors = np.where(res != ans)[0]\n",
    "print(errors)"
   ]
  },
  {
   "cell_type": "code",
   "execution_count": 51,
   "metadata": {
    "scrolled": false
   },
   "outputs": [
    {
     "data": {
      "image/png": "[encoded data removed]",
      "text/plain": [
       "<IPython.core.display.Image object>"
      ]
     },
     "metadata": {},
     "output_type": "display_data"
    },
    {
     "name": "stdout",
     "output_type": "stream",
     "text": [
      "kei\n"
     ]
    },
    {
     "data": {
      "image/png": "[encoded data removed]",
      "text/plain": [
       "<IPython.core.display.Image object>"
      ]
     },
     "metadata": {},
     "output_type": "display_data"
    },
    {
     "name": "stdout",
     "output_type": "stream",
     "text": [
      "hi\n"
     ]
    }
   ],
   "source": [
    "for e in errors:\n",
    "    display_image(np.uint8(x_test_with_hint[0][e] * 255)[:, :, 0])\n",
    "    if len(labels) > res[e]:\n",
    "        print(labels[res[e]])\n",
    "    else:\n",
    "        print(\"p\")\n",
    "        print(labels[res[e] - len(labels)])"
   ]
  },
  {
   "cell_type": "code",
   "execution_count": 29,
   "metadata": {
    "scrolled": false
   },
   "outputs": [
    {
     "data": {
      "image/png": "[encoded data removed]",
      "text/plain": [
       "<IPython.core.display.Image object>"
      ]
     },
     "metadata": {},
     "output_type": "display_data"
    },
    {
     "name": "stdout",
     "output_type": "stream",
     "text": [
      "ryu\n"
     ]
    },
    {
     "data": {
      "image/png": "[encoded data removed]",
      "text/plain": [
       "<IPython.core.display.Image object>"
      ]
     },
     "metadata": {},
     "output_type": "display_data"
    },
    {
     "name": "stdout",
     "output_type": "stream",
     "text": [
      "gin\n"
     ]
    },
    {
     "data": {
      "image/png": "[encoded data removed]",
      "text/plain": [
       "<IPython.core.display.Image object>"
      ]
     },
     "metadata": {},
     "output_type": "display_data"
    },
    {
     "name": "stdout",
     "output_type": "stream",
     "text": [
      "ou\n"
     ]
    },
    {
     "data": {
      "image/png": "[encoded data removed]",
      "text/plain": [
       "<IPython.core.display.Image object>"
      ]
     },
     "metadata": {},
     "output_type": "display_data"
    },
    {
     "name": "stdout",
     "output_type": "stream",
     "text": [
      "kin\n"
     ]
    },
    {
     "data": {
      "image/png": "[encoded data removed]",
      "text/plain": [
       "<IPython.core.display.Image object>"
      ]
     },
     "metadata": {},
     "output_type": "display_data"
    },
    {
     "name": "stdout",
     "output_type": "stream",
     "text": [
      "kin\n"
     ]
    },
    {
     "data": {
      "image/png": "[encoded data removed]",
      "text/plain": [
       "<IPython.core.display.Image object>"
      ]
     },
     "metadata": {},
     "output_type": "display_data"
    },
    {
     "name": "stdout",
     "output_type": "stream",
     "text": [
      "hi\n"
     ]
    },
    {
     "data": {
      "image/png": "[encoded data removed]",
      "text/plain": [
       "<IPython.core.display.Image object>"
      ]
     },
     "metadata": {},
     "output_type": "display_data"
    },
    {
     "name": "stdout",
     "output_type": "stream",
     "text": [
      "gin\n"
     ]
    },
    {
     "data": {
      "image/png": "[encoded data removed]",
      "text/plain": [
       "<IPython.core.display.Image object>"
      ]
     },
     "metadata": {},
     "output_type": "display_data"
    },
    {
     "name": "stdout",
     "output_type": "stream",
     "text": [
      "fu\n"
     ]
    },
    {
     "data": {
      "image/png": "[encoded data removed]",
      "text/plain": [
       "<IPython.core.display.Image object>"
      ]
     },
     "metadata": {},
     "output_type": "display_data"
    },
    {
     "name": "stdout",
     "output_type": "stream",
     "text": [
      "ou\n"
     ]
    },
    {
     "data": {
      "image/png": "[encoded data removed]",
      "text/plain": [
       "<IPython.core.display.Image object>"
      ]
     },
     "metadata": {},
     "output_type": "display_data"
    },
    {
     "name": "stdout",
     "output_type": "stream",
     "text": [
      "ryu\n"
     ]
    },
    {
     "data": {
      "image/png": "[encoded data removed]",
      "text/plain": [
       "<IPython.core.display.Image object>"
      ]
     },
     "metadata": {},
     "output_type": "display_data"
    },
    {
     "name": "stdout",
     "output_type": "stream",
     "text": [
      "kei\n"
     ]
    },
    {
     "data": {
      "image/png": "[encoded data removed]",
      "text/plain": [
       "<IPython.core.display.Image object>"
      ]
     },
     "metadata": {},
     "output_type": "display_data"
    },
    {
     "name": "stdout",
     "output_type": "stream",
     "text": [
      "gin\n"
     ]
    },
    {
     "data": {
      "image/png": "[encoded data removed]",
      "text/plain": [
       "<IPython.core.display.Image object>"
      ]
     },
     "metadata": {},
     "output_type": "display_data"
    },
    {
     "name": "stdout",
     "output_type": "stream",
     "text": [
      "to\n"
     ]
    },
    {
     "data": {
      "image/png": "[encoded data removed]",
      "text/plain": [
       "<IPython.core.display.Image object>"
      ]
     },
     "metadata": {},
     "output_type": "display_data"
    },
    {
     "name": "stdout",
     "output_type": "stream",
     "text": [
      "gyoku\n"
     ]
    },
    {
     "data": {
      "image/png": "[encoded data removed]",
      "text/plain": [
       "<IPython.core.display.Image object>"
      ]
     },
     "metadata": {},
     "output_type": "display_data"
    },
    {
     "name": "stdout",
     "output_type": "stream",
     "text": [
      "gin\n"
     ]
    },
    {
     "data": {
      "image/png": "[encoded data removed]",
      "text/plain": [
       "<IPython.core.display.Image object>"
      ]
     },
     "metadata": {},
     "output_type": "display_data"
    },
    {
     "name": "stdout",
     "output_type": "stream",
     "text": [
      "narikei\n"
     ]
    },
    {
     "data": {
      "image/png": "[encoded data removed]",
      "text/plain": [
       "<IPython.core.display.Image object>"
      ]
     },
     "metadata": {},
     "output_type": "display_data"
    },
    {
     "name": "stdout",
     "output_type": "stream",
     "text": [
      "hi\n"
     ]
    },
    {
     "data": {
      "image/png": "[encoded data removed]",
      "text/plain": [
       "<IPython.core.display.Image object>"
      ]
     },
     "metadata": {},
     "output_type": "display_data"
    },
    {
     "name": "stdout",
     "output_type": "stream",
     "text": [
      "kyo\n"
     ]
    },
    {
     "data": {
      "image/png": "[encoded data removed]",
      "text/plain": [
       "<IPython.core.display.Image object>"
      ]
     },
     "metadata": {},
     "output_type": "display_data"
    },
    {
     "name": "stdout",
     "output_type": "stream",
     "text": [
      "kin\n"
     ]
    },
    {
     "data": {
      "image/png": "[encoded data removed]",
      "text/plain": [
       "<IPython.core.display.Image object>"
      ]
     },
     "metadata": {},
     "output_type": "display_data"
    },
    {
     "name": "stdout",
     "output_type": "stream",
     "text": [
      "kaku\n"
     ]
    },
    {
     "data": {
      "image/png": "[encoded data removed]",
      "text/plain": [
       "<IPython.core.display.Image object>"
      ]
     },
     "metadata": {},
     "output_type": "display_data"
    },
    {
     "name": "stdout",
     "output_type": "stream",
     "text": [
      "ou\n"
     ]
    },
    {
     "data": {
      "image/png": "[encoded data removed]",
      "text/plain": [
       "<IPython.core.display.Image object>"
      ]
     },
     "metadata": {},
     "output_type": "display_data"
    },
    {
     "name": "stdout",
     "output_type": "stream",
     "text": [
      "gin\n"
     ]
    },
    {
     "data": {
      "image/png": "[encoded data removed]",
      "text/plain": [
       "<IPython.core.display.Image object>"
      ]
     },
     "metadata": {},
     "output_type": "display_data"
    },
    {
     "name": "stdout",
     "output_type": "stream",
     "text": [
      "kyo\n"
     ]
    },
    {
     "data": {
      "image/png": "[encoded data removed]",
      "text/plain": [
       "<IPython.core.display.Image object>"
      ]
     },
     "metadata": {},
     "output_type": "display_data"
    },
    {
     "name": "stdout",
     "output_type": "stream",
     "text": [
      "narigin\n"
     ]
    },
    {
     "data": {
      "image/png": "[encoded data removed]",
      "text/plain": [
       "<IPython.core.display.Image object>"
      ]
     },
     "metadata": {},
     "output_type": "display_data"
    },
    {
     "name": "stdout",
     "output_type": "stream",
     "text": [
      "kaku\n"
     ]
    },
    {
     "data": {
      "image/png": "[encoded data removed]",
      "text/plain": [
       "<IPython.core.display.Image object>"
      ]
     },
     "metadata": {},
     "output_type": "display_data"
    },
    {
     "name": "stdout",
     "output_type": "stream",
     "text": [
      "to\n"
     ]
    },
    {
     "data": {
      "image/png": "[encoded data removed]",
      "text/plain": [
       "<IPython.core.display.Image object>"
      ]
     },
     "metadata": {},
     "output_type": "display_data"
    },
    {
     "name": "stdout",
     "output_type": "stream",
     "text": [
      "hi\n"
     ]
    },
    {
     "data": {
      "image/png": "[encoded data removed]",
      "text/plain": [
       "<IPython.core.display.Image object>"
      ]
     },
     "metadata": {},
     "output_type": "display_data"
    },
    {
     "name": "stdout",
     "output_type": "stream",
     "text": [
      "narikei\n"
     ]
    },
    {
     "data": {
      "image/png": "[encoded data removed]",
      "text/plain": [
       "<IPython.core.display.Image object>"
      ]
     },
     "metadata": {},
     "output_type": "display_data"
    },
    {
     "name": "stdout",
     "output_type": "stream",
     "text": [
      "kin\n"
     ]
    },
    {
     "data": {
      "image/png": "[encoded data removed]",
      "text/plain": [
       "<IPython.core.display.Image object>"
      ]
     },
     "metadata": {},
     "output_type": "display_data"
    },
    {
     "name": "stdout",
     "output_type": "stream",
     "text": [
      "uma\n"
     ]
    },
    {
     "data": {
      "image/png": "[encoded data removed]",
      "text/plain": [
       "<IPython.core.display.Image object>"
      ]
     },
     "metadata": {},
     "output_type": "display_data"
    },
    {
     "name": "stdout",
     "output_type": "stream",
     "text": [
      "kei\n"
     ]
    }
   ],
   "source": [
    "for e in correct:\n",
    "    display_image(np.uint8(x_test_with_hint[0][e] * 255)[:, :, 0])\n",
    "    if len(labels) > res[e]:\n",
    "        print(labels[res[e]])\n",
    "    else:\n",
    "        print(\"p\")\n",
    "        print(labels[res[e] - len(labels)])"
   ]
  },
  {
   "cell_type": "code",
   "execution_count": null,
   "metadata": {
    "collapsed": true
   },
   "outputs": [],
   "source": []
  }
 ],
 "metadata": {
  "kernelspec": {
   "display_name": "Python 3",
   "language": "python",
   "name": "python3"
  },
  "language_info": {
   "codemirror_mode": {
    "name": "ipython",
    "version": 3
   },
   "file_extension": ".py",
   "mimetype": "text/x-python",
   "name": "python",
   "nbconvert_exporter": "python",
   "pygments_lexer": "ipython3",
   "version": "3.5.2"
  }
 },
 "nbformat": 4,
 "nbformat_minor": 2
}
