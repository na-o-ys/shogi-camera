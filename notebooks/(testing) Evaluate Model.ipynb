{
 "cells": [
  {
   "cell_type": "code",
   "execution_count": 29,
   "metadata": {},
   "outputs": [],
   "source": [
    "import cv2\n",
    "from IPython import display\n",
    "import itertools\n",
    "from PIL import Image\n",
    "from io import BytesIO\n",
    "import numpy as np\n",
    "\n",
    "def display_image(arr):\n",
    "    b = BytesIO()\n",
    "    Image.fromarray(np.uint8(arr)).save(b, format='png')\n",
    "    data = b.getvalue()\n",
    "    display.display(display.Image(data=data, format='png', embed=True))"
   ]
  },
  {
   "cell_type": "code",
   "execution_count": 9,
   "metadata": {},
   "outputs": [],
   "source": [
    "import shogicam.data\n",
    "import shogicam.util\n",
    "from shogicam.constant import *\n",
    "\n",
    "data = shogicam.data.load_validation_board_data('../data/board')"
   ]
  },
  {
   "cell_type": "code",
   "execution_count": 49,
   "metadata": {},
   "outputs": [
    {
     "data": {
      "image/png": "[encoded data removed]",
      "text/plain": [
       "<IPython.core.display.Image object>"
      ]
     },
     "metadata": {},
     "output_type": "display_data"
    }
   ],
   "source": [
    "display_image((data[5][0][6][:, :, 0] * 256))"
   ]
  },
  {
   "cell_type": "code",
   "execution_count": 70,
   "metadata": {
    "scrolled": false
   },
   "outputs": [],
   "source": [
    "import shogicam.data\n",
    "import shogicam.util\n",
    "from shogicam.constant import *\n",
    "\n",
    "data = shogicam.data.load_validation_board_data('../data/board')\n",
    "data_sente = shogicam.data.load_validation_board_data('../data/board', True)\n",
    "\n",
    "x_all = np.empty((0, 64, 64, 1))\n",
    "y_all = np.empty((0, data[0][1].shape[1]))\n",
    "for (x, y) in data:\n",
    "    x_all = np.r_[x_all, x]\n",
    "    y_all = np.r_[y_all, y]"
   ]
  },
  {
   "cell_type": "code",
   "execution_count": 53,
   "metadata": {},
   "outputs": [],
   "source": [
    "from scipy.ndimage.interpolation import zoom\n",
    "# display_image(x_all[0])\n",
    "# zoomed = zoom(x_all[0], 1.3)\n",
    "# shp = zoomed.shape\n",
    "# xstart = int((shp[0] - 64) / 2)\n",
    "# ystart = int((shp[1] - 64) / 2)\n",
    "# zoomed = zoomed[xstart:(xstart + 64), ystart:(ystart + 64), :]\n",
    "# display_image(zoomed)\n",
    "\n",
    "def zoom_images(imgs, scale=1.3):\n",
    "    ret = []\n",
    "    for img in imgs:\n",
    "        zoomed = zoom(img.reshape(64, 64), scale)\n",
    "        shp = zoomed.shape\n",
    "        xstart = int((shp[0] - 64) / 2)\n",
    "        ystart = int((shp[1] - 64) / 2)\n",
    "        ret.append(zoomed[xstart:(xstart + 64), ystart:(ystart + 64)].reshape((64, 64, 1)))\n",
    "    return np.array(ret)"
   ]
  },
  {
   "cell_type": "code",
   "execution_count": 67,
   "metadata": {},
   "outputs": [],
   "source": [
    "from keras.models import load_model\n",
    "\n",
    "# model = load_model('../models/purple.h5')\n",
    "model = load_model('../models/blue3.h5')"
   ]
  },
  {
   "cell_type": "code",
   "execution_count": 54,
   "metadata": {},
   "outputs": [
    {
     "name": "stderr",
     "output_type": "stream",
     "text": [
      "/usr/local/lib/python3.5/dist-packages/scipy/ndimage/interpolation.py:616: UserWarning: From scipy 0.13.0, the output shape of zoom() is calculated with round() instead of int() - for these inputs the size of the returned array has changed.\n",
      "  \"the returned array has changed.\", UserWarning)\n"
     ]
    },
    {
     "name": "stdout",
     "output_type": "stream",
     "text": [
      "[0.97368420738922923, 0.94736841791554505, 0.94736841791554505, 0.94736841791554505, 0.86842104949449239, 0.86842104949449239]\n",
      "0.973684207389\n",
      "[0.92307692613357151, 0.94871795024627292, 0.92307692460524726, 0.89743589896422171, 0.794871795635957, 0.71794872024120426]\n",
      "0.948717950246\n",
      "[0.97297297297297303, 0.97297297297297303, 0.97297297297297303, 0.97297297297297303, 0.97297297297297303, 0.94594594594594594]\n",
      "0.972972972973\n",
      "[0.875, 0.90625, 0.84375, 0.75, 0.6875, 0.625]\n",
      "0.90625\n",
      "[0.85714285884584696, 0.48571428656578064, 0.37142857228006637, 0.34285714370863779, 0.25714285714285712, 0.14285714285714285]\n",
      "0.857142858846\n",
      "[0.6470588235294118, 0.76470588235294112, 0.73529411764705888, 0.73529411764705888, 0.67647058823529416, 0.6470588235294118]\n",
      "0.735294117647\n",
      "[0.86666667461395264, 0.89999997615814209, 0.86666667461395264, 0.86666667461395264, 0.86666667461395264, 0.80000001192092896]\n",
      "0.866666674614\n",
      "[0.71428571513720918, 0.77142857228006634, 0.80000000085149492, 0.77142857313156132, 0.8000000017029899, 0.77142857228006634]\n",
      "0.800000001703\n",
      "0.885714286779\n"
     ]
    }
   ],
   "source": [
    "n_all = 0\n",
    "acc_all = 0.0\n",
    "for (x, y) in data:\n",
    "#     print(model.evaluate(x, y, verbose=False))\n",
    "#     print(model.evaluate(zoom_images(x, 1.1), y, verbose=False))\n",
    "#     print(model.evaluate(zoom_images(x, 1.2), y, verbose=False))\n",
    "#     print(model.evaluate(zoom_images(x, 1.3), y, verbose=False))\n",
    "#     print(model.evaluate(zoom_images(x, 1.4), y, verbose=False))\n",
    "#     print(model.evaluate(zoom_images(x, 1.5), y, verbose=False))\n",
    "    loss, acc = model.evaluate(x, y, verbose=False)\n",
    "    losses = [loss]\n",
    "    accs = [acc]\n",
    "\n",
    "    scales = [1.1, 1.2, 1.3, 1.4, 1.5]\n",
    "    for scale in scales:\n",
    "        loss, acc = model.evaluate(zoom_images(x, scale), y, verbose=False)\n",
    "        losses.append(loss)\n",
    "        accs.append(acc)\n",
    "    print(accs)\n",
    "\n",
    "    acc = accs[np.argmin(losses)]\n",
    "#     print(np.argmin(losses))\n",
    "    print(acc)\n",
    "    n_all += len(x)\n",
    "    acc_all += len(x) * acc\n",
    "\n",
    "print(acc_all / n_all)\n",
    "# print(model.evaluate(x_all, y_all, verbose=False))\n",
    "# print(model.evaluate(zoom_images(x_all), y_all, verbose=False))"
   ]
  },
  {
   "cell_type": "code",
   "execution_count": 116,
   "metadata": {},
   "outputs": [],
   "source": [
    "import shogicam.data\n",
    "import shogicam.util\n",
    "from shogicam.constant import *\n",
    "import keras\n",
    "\n",
    "x_all, y_all = shogicam.data.load_data('../data')\n",
    "x_all = x_all.reshape(x_all.shape[0], 64, 64, 1)\n",
    "x_all /= 255\n",
    "\n",
    "y_all = keras.utils.to_categorical(y_all[:, 0], NUM_CLASSES)\n",
    "\n",
    "data = shogicam.data.load_validation_board_data('../data/board')\n",
    "\n",
    "x_v = np.empty((0, 64, 64, 1))\n",
    "y_v = np.empty((0, data[0][1].shape[1]))\n",
    "for (x, y) in data:\n",
    "    x_v = np.r_[x_v, x]\n",
    "    y_v = np.r_[y_v, y]"
   ]
  },
  {
   "cell_type": "code",
   "execution_count": 115,
   "metadata": {},
   "outputs": [
    {
     "data": {
      "image/png": "[encoded data removed]",
      "text/plain": [
       "<IPython.core.display.Image object>"
      ]
     },
     "metadata": {},
     "output_type": "display_data"
    },
    {
     "name": "stdout",
     "output_type": "stream",
     "text": [
      "王\n"
     ]
    }
   ],
   "source": [
    "import keras\n",
    "from shogicam.constant import *\n",
    "\n",
    "display_image(x_all[1][:, :, 0] * 256)\n",
    "print(get_label(y_all[1][0]))\n",
    "\n",
    "y_all = keras.utils.to_categorical(y_all[:, 0], NUM_CLASSES)"
   ]
  },
  {
   "cell_type": "code",
   "execution_count": 117,
   "metadata": {},
   "outputs": [],
   "source": [
    "pred_arr = model.predict(x_all)\n",
    "res = np.argmax(pred_arr, axis=1)\n",
    "ans = np.argmax(y_all, axis=1)\n",
    "correct = np.where(res == ans)[0]\n",
    "errors = np.where(res != ans)[0]"
   ]
  },
  {
   "cell_type": "code",
   "execution_count": 118,
   "metadata": {
    "scrolled": false
   },
   "outputs": [
    {
     "data": {
      "image/png": "[encoded data removed]",
      "text/plain": [
       "<IPython.core.display.Image object>"
      ]
     },
     "metadata": {},
     "output_type": "display_data"
    },
    {
     "name": "stdout",
     "output_type": "stream",
     "text": [
      "全\n"
     ]
    },
    {
     "data": {
      "image/png": "[encoded data removed]",
      "text/plain": [
       "<IPython.core.display.Image object>"
      ]
     },
     "metadata": {},
     "output_type": "display_data"
    },
    {
     "name": "stdout",
     "output_type": "stream",
     "text": [
      "と\n"
     ]
    },
    {
     "data": {
      "image/png": "[encoded data removed]",
      "text/plain": [
       "<IPython.core.display.Image object>"
      ]
     },
     "metadata": {},
     "output_type": "display_data"
    },
    {
     "name": "stdout",
     "output_type": "stream",
     "text": [
      "v玉\n"
     ]
    },
    {
     "data": {
      "image/png": "[encoded data removed]",
      "text/plain": [
       "<IPython.core.display.Image object>"
      ]
     },
     "metadata": {},
     "output_type": "display_data"
    },
    {
     "name": "stdout",
     "output_type": "stream",
     "text": [
      "v玉\n"
     ]
    },
    {
     "data": {
      "image/png": "[encoded data removed]",
      "text/plain": [
       "<IPython.core.display.Image object>"
      ]
     },
     "metadata": {},
     "output_type": "display_data"
    },
    {
     "name": "stdout",
     "output_type": "stream",
     "text": [
      "v馬\n"
     ]
    },
    {
     "data": {
      "image/png": "[encoded data removed]",
      "text/plain": [
       "<IPython.core.display.Image object>"
      ]
     },
     "metadata": {},
     "output_type": "display_data"
    },
    {
     "name": "stdout",
     "output_type": "stream",
     "text": [
      "v王\n"
     ]
    },
    {
     "data": {
      "image/png": "[encoded data removed]",
      "text/plain": [
       "<IPython.core.display.Image object>"
      ]
     },
     "metadata": {},
     "output_type": "display_data"
    },
    {
     "name": "stdout",
     "output_type": "stream",
     "text": [
      "v王\n"
     ]
    }
   ],
   "source": [
    "def get_label(idx):\n",
    "    sente = idx < 15\n",
    "    if sente:\n",
    "        return LABELS_JA[idx]\n",
    "    return 'v' + LABELS_JA[idx - 15]\n",
    "\n",
    "for e in errors:\n",
    "    display_image(x_all[e][:, :, 0] * 256)\n",
    "    print(get_label(res[e]))"
   ]
  },
  {
   "cell_type": "code",
   "execution_count": 66,
   "metadata": {},
   "outputs": [
    {
     "data": {
      "text/plain": [
       "(560, 64, 64, 1)"
      ]
     },
     "execution_count": 66,
     "metadata": {},
     "output_type": "execute_result"
    }
   ],
   "source": [
    "np.r_[x_all, x_all].shape"
   ]
  },
  {
   "cell_type": "code",
   "execution_count": null,
   "metadata": {},
   "outputs": [],
   "source": []
  }
 ],
 "metadata": {
  "kernelspec": {
   "display_name": "Python 3",
   "language": "python",
   "name": "python3"
  },
  "language_info": {
   "codemirror_mode": {
    "name": "ipython",
    "version": 3
   },
   "file_extension": ".py",
   "mimetype": "text/x-python",
   "name": "python",
   "nbconvert_exporter": "python",
   "pygments_lexer": "ipython3",
   "version": "3.5.2"
  }
 },
 "nbformat": 4,
 "nbformat_minor": 2
}
